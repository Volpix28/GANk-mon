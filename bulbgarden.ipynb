{
 "cells": [
  {
   "cell_type": "code",
   "execution_count": 32,
   "metadata": {},
   "outputs": [],
   "source": [
    "from bs4 import BeautifulSoup\n",
    "from tqdm import tqdm\n",
    "import requests\n",
    "import os"
   ]
  },
  {
   "cell_type": "code",
   "execution_count": 28,
   "metadata": {},
   "outputs": [
    {
     "name": "stdout",
     "output_type": "stream",
     "text": [
      "10\n",
      "['https://bulbapedia.bulbagarden.net/wiki/Rhyperior_(Pok%C3%A9mon)', 'https://bulbapedia.bulbagarden.net/wiki/Turtwig_(Pok%C3%A9mon)', 'https://bulbapedia.bulbagarden.net/wiki/Meloetta_(Pok%C3%A9mon)', 'https://bulbapedia.bulbagarden.net/wiki/Cinderace_(Pok%C3%A9mon)', 'https://bulbapedia.bulbagarden.net/wiki/Zamazenta_(Pok%C3%A9mon)']\n",
      "1025\n"
     ]
    }
   ],
   "source": [
    "website_base = 'https://bulbapedia.bulbagarden.net'\n",
    "\n",
    "# Make a request to the website\n",
    "r = requests.get('https://bulbapedia.bulbagarden.net/wiki/List_of_Pok%E9mon_by_National_Pok%E9dex_number')\n",
    "r_html = r.text\n",
    "\n",
    "# Create a BeautifulSoup object and specify the parser\n",
    "soup = BeautifulSoup(r_html, 'html.parser')\n",
    "\n",
    "\n",
    "elements = soup.find_all(class_='roundy')\n",
    "print(len(elements))\n",
    "all_links = []\n",
    "for tr in elements:\n",
    "    sub_elements = tr.find_all('img')\n",
    "\n",
    "    for img in sub_elements:\n",
    "        #print(img.parent.get('href'))\n",
    "        all_links.append(website_base+img.parent.get('href'))\n",
    "\n",
    "\n",
    "distinct_links = list(set(all_links))\n",
    "print(distinct_links[:5])\n",
    "print(len(distinct_links))\n"
   ]
  },
  {
   "cell_type": "code",
   "execution_count": 30,
   "metadata": {},
   "outputs": [
    {
     "name": "stderr",
     "output_type": "stream",
     "text": [
      "100%|██████████| 1025/1025 [06:53<00:00,  2.48it/s]"
     ]
    },
    {
     "name": "stdout",
     "output_type": "stream",
     "text": [
      "1025\n",
      "['https://archives.bulbagarden.net/wiki/Category:Rhyperior', 'https://archives.bulbagarden.net/wiki/Category:Turtwig', 'https://archives.bulbagarden.net/wiki/Category:Meloetta', 'https://archives.bulbagarden.net/wiki/Category:Cinderace', 'https://archives.bulbagarden.net/wiki/Category:Zamazenta']\n"
     ]
    },
    {
     "name": "stderr",
     "output_type": "stream",
     "text": [
      "\n"
     ]
    }
   ],
   "source": [
    "all_img_links = []\n",
    "for link in tqdm(distinct_links):\n",
    "    r = requests.get(link)\n",
    "    r_html = r.text\n",
    "    soup = BeautifulSoup(r_html, 'html.parser')\n",
    "    tables = soup.find_all(class_='roundy', attrs={'style': 'background:#FFF;', 'width': '100%'})\n",
    "    for table in tables:\n",
    "        elements = table.find_all('a', attrs={'class': 'extiw'})\n",
    "        for a in elements:\n",
    "            title = a.get('title')\n",
    "            if title and title.startswith('a:Category:'):\n",
    "                all_img_links.append(a.get('href'))\n",
    "                break\n",
    "        break\n",
    "\n",
    "print(len(all_img_links))\n",
    "print(all_img_links[:5])"
   ]
  },
  {
   "cell_type": "code",
   "execution_count": 44,
   "metadata": {},
   "outputs": [
    {
     "name": "stderr",
     "output_type": "stream",
     "text": [
      "100%|██████████| 1025/1025 [09:55<00:00,  1.72it/s]"
     ]
    },
    {
     "name": "stdout",
     "output_type": "stream",
     "text": [
      "9765\n",
      "['https://bulbapedia.bulbagarden.net/wiki/File:0464Rhyperior.png', 'https://bulbapedia.bulbagarden.net/wiki/File:464Rhyperior_DP_anime.png', 'https://bulbapedia.bulbagarden.net/wiki/File:464Rhyperior_XY_anime.png', 'https://bulbapedia.bulbagarden.net/wiki/File:464OD.png', 'https://bulbapedia.bulbagarden.net/wiki/File:Ani464OD.png', 'https://bulbapedia.bulbagarden.net/wiki/File:464Rhyperior_Dream.png', 'https://bulbapedia.bulbagarden.net/wiki/File:0387Turtwig.png', 'https://bulbapedia.bulbagarden.net/wiki/File:387Turtwig_BDSP.png', 'https://bulbapedia.bulbagarden.net/wiki/File:387Turtwig_Pt.png', 'https://bulbapedia.bulbagarden.net/wiki/File:387Turtwig_Dream_2.png', 'https://bulbapedia.bulbagarden.net/wiki/File:387Turtwig_Dream_3.png', 'https://bulbapedia.bulbagarden.net/wiki/File:387Turtwig_WF.png', 'https://bulbapedia.bulbagarden.net/wiki/File:387Turtwig_DP_anime_2.png', 'https://bulbapedia.bulbagarden.net/wiki/File:387Turtwig_DP_anime.png', 'https://bulbapedia.bulbagarden.net/wiki/File:387Turtwig_XY_anime.png', 'https://bulbapedia.bulbagarden.net/wiki/File:387OD_Pt.png', 'https://bulbapedia.bulbagarden.net/wiki/File:Ani387OD.png', 'https://bulbapedia.bulbagarden.net/wiki/File:387Turtwig_Dream.png', 'https://bulbapedia.bulbagarden.net/wiki/File:DP_anime_all_first_partners.png', 'https://bulbapedia.bulbagarden.net/wiki/File:0648Meloetta-Pirouette.png', 'https://bulbapedia.bulbagarden.net/wiki/File:0648Meloetta.png', 'https://bulbapedia.bulbagarden.net/wiki/File:648Meloetta_Dream_2.png', 'https://bulbapedia.bulbagarden.net/wiki/File:648Meloetta_Dream.png', 'https://bulbapedia.bulbagarden.net/wiki/File:648Meloetta_BW_anime_2.png', 'https://bulbapedia.bulbagarden.net/wiki/File:648Meloetta_BW_anime.png']\n"
     ]
    },
    {
     "name": "stderr",
     "output_type": "stream",
     "text": [
      "\n"
     ]
    }
   ],
   "source": [
    "imgs_to_retrieve = []\n",
    "img_filter = ['_dream', '_anime']\n",
    "\n",
    "for link in tqdm(all_img_links):\n",
    "    r = requests.get(link)\n",
    "    r_html = r.text\n",
    "    soup = BeautifulSoup(r_html, 'html.parser')\n",
    "    gallery = soup.find(class_='gallery')\n",
    "    elements = gallery.find_all('li')\n",
    "    counter = 0\n",
    "    for li in elements:\n",
    "        gallerytext = li.find('div', attrs={'class': 'gallerytext'}).find('a')\n",
    "        title = gallerytext.get('title') \n",
    "        if title and 'spr ' not in title.lower() and (counter < 11 or any(substring in title.lower() for substring in img_filter)):\n",
    "            imgs_to_retrieve.append(website_base+gallerytext.get('href'))\n",
    "        counter += 1\n",
    "\n",
    "print(len(imgs_to_retrieve))\n",
    "print(imgs_to_retrieve[:25])"
   ]
  },
  {
   "cell_type": "code",
   "execution_count": 62,
   "metadata": {},
   "outputs": [],
   "source": [
    "extra_filters = ['_Contest_']\n",
    "\n",
    "no_od = [link for link in imgs_to_retrieve if 'OD.' not in link and 'ODS.' not in link]\n",
    "no_od = list(set(no_od))\n",
    "\n",
    "filtered = [link for link in no_od if all(substring not in link for substring in extra_filters)]"
   ]
  },
  {
   "cell_type": "code",
   "execution_count": 86,
   "metadata": {},
   "outputs": [
    {
     "name": "stderr",
     "output_type": "stream",
     "text": [
      "  0%|          | 30/8512 [00:00<01:45, 80.03it/s] "
     ]
    },
    {
     "name": "stderr",
     "output_type": "stream",
     "text": [
      "100%|██████████| 8512/8512 [00:12<00:00, 661.93it/s] \n"
     ]
    },
    {
     "name": "stdout",
     "output_type": "stream",
     "text": [
      "4\n"
     ]
    },
    {
     "name": "stderr",
     "output_type": "stream",
     "text": [
      "100%|██████████| 4/4 [00:03<00:00,  1.06it/s]\n"
     ]
    }
   ],
   "source": [
    "from joblib import Parallel, delayed\n",
    "import numpy as np\n",
    "#image_links = imgs_to_retrieve\n",
    "#image_links = no_od\n",
    "image_links = filtered\n",
    "\n",
    "folder = 'dataset/bulbapedia'\n",
    "amount_jobs = 10\n",
    "\n",
    "#print(os.path.basename(image_links[0]).split(':')[1])\n",
    "\n",
    "missing_links = [link for link in tqdm(image_links) if not os.path.exists(os.path.join(folder, os.path.basename(link).split(':')[1]))]\n",
    "print(len(missing_links))\n",
    "\n",
    "image_links = missing_links\n",
    "\n",
    "def img_downloader(image_links, pbar):\n",
    "    #for link in tqdm(image_links):\n",
    "    for link in image_links:\n",
    "        if os.path.exists(os.path.join(folder, os.path.basename(link).split(':')[1])):\n",
    "            continue\n",
    "        r = requests.get(link)\n",
    "        r_html = r.text\n",
    "        soup = BeautifulSoup(r_html, 'html.parser')\n",
    "        elements = soup.find(class_='fullImageLink')\n",
    "        a = elements.find('a')\n",
    "        img_link = a.get('href')\n",
    "\n",
    "        img_data = requests.get(img_link).content\n",
    "\n",
    "        # Get the image name from the link\n",
    "        img_name = os.path.basename(img_link)\n",
    "\n",
    "        os.makedirs(folder, exist_ok=True)\n",
    "\n",
    "        # Write the image data to a file in the specified folder\n",
    "        with open(os.path.join(folder, img_name), 'wb') as f:\n",
    "            f.write(img_data)\n",
    "\n",
    "        \n",
    "        pbar.update()\n",
    "\n",
    "    #break\n",
    "\n",
    "np.random.shuffle(image_links)\n",
    "splits = [list(split) for split in np.array_split(image_links, amount_jobs)]\n",
    "\n",
    "\n",
    "\n",
    "with tqdm(total=len(image_links)) as pbar:\n",
    "    Parallel(n_jobs=amount_jobs, prefer=\"threads\", verbose=0)(delayed(img_downloader)(split, pbar) for split in splits)\n"
   ]
  },
  {
   "cell_type": "code",
   "execution_count": 103,
   "metadata": {},
   "outputs": [
    {
     "name": "stderr",
     "output_type": "stream",
     "text": [
      "100%|██████████| 7164/7164 [00:11<00:00, 609.78it/s]\n"
     ]
    }
   ],
   "source": [
    "from PIL import Image\n",
    "from io import BytesIO\n",
    "import shutil\n",
    "\n",
    "bah_folder = 'dataset/bulbapedia_not_good'\n",
    "amount_jobs = 20\n",
    "\n",
    "def is_white_or_transparent(img):\n",
    "    pixel = img.getpixel((0, 0))\n",
    "    #print(type(pixel))\n",
    "    return pixel == (255, 255, 255, 255) or pixel[3] == 0\n",
    "\n",
    "def filter_files(files, pbar):\n",
    "    for filename in files:\n",
    "        if filename.endswith('.png') or filename.endswith('.jpg'):  # Add or modify as needed\n",
    "            img_path = os.path.join(folder, filename)\n",
    "            #print(img_path)\n",
    "            img = Image.open(img_path).convert('RGBA')\n",
    "\n",
    "            # Check if the pixel at (0, 0) is not white or transparent\n",
    "            os.makedirs(bah_folder, exist_ok=True)\n",
    "            if not is_white_or_transparent(img):\n",
    "                # Delete the image\n",
    "                bah_path = os.path.join(bah_folder, filename)\n",
    "                shutil.move(img_path, bah_path)\n",
    "            \n",
    "        pbar.update()\n",
    "\n",
    "\n",
    "file_list = os.listdir(folder)\n",
    "np.random.shuffle(file_list)\n",
    "splits = [list(split) for split in np.array_split(file_list, amount_jobs)]\n",
    "\n",
    "\n",
    "\n",
    "with tqdm(total=len(file_list)) as pbar:\n",
    "    Parallel(n_jobs=amount_jobs, prefer=\"threads\", verbose=0)(delayed(filter_files)(split, pbar) for split in splits)"
   ]
  }
 ],
 "metadata": {
  "kernelspec": {
   "display_name": "Python 3",
   "language": "python",
   "name": "python3"
  },
  "language_info": {
   "codemirror_mode": {
    "name": "ipython",
    "version": 3
   },
   "file_extension": ".py",
   "mimetype": "text/x-python",
   "name": "python",
   "nbconvert_exporter": "python",
   "pygments_lexer": "ipython3",
   "version": "3.10.12"
  }
 },
 "nbformat": 4,
 "nbformat_minor": 2
}
