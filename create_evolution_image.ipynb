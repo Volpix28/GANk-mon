{
 "cells": [
  {
   "cell_type": "code",
   "execution_count": 1,
   "metadata": {},
   "outputs": [],
   "source": [
    "from example_generator import generate_example_animation"
   ]
  },
  {
   "cell_type": "code",
   "execution_count": 2,
   "metadata": {},
   "outputs": [
    {
     "name": "stdout",
     "output_type": "stream",
     "text": [
      "outputs/30_giga_dataset_30_all_assets_and_bulbapedia_256x256_e50/generator_16.pth\n",
      "outputs/30_giga_dataset_30_all_assets_and_bulbapedia_256x256_e50/generator_16_10.pth\n",
      "outputs/30_giga_dataset_30_all_assets_and_bulbapedia_256x256_e50/generator_16_20.pth\n",
      "outputs/30_giga_dataset_30_all_assets_and_bulbapedia_256x256_e50/generator_16_30.pth\n",
      "outputs/30_giga_dataset_30_all_assets_and_bulbapedia_256x256_e50/generator_16_40.pth\n",
      "outputs/30_giga_dataset_30_all_assets_and_bulbapedia_256x256_e50/generator_32.pth\n",
      "outputs/30_giga_dataset_30_all_assets_and_bulbapedia_256x256_e50/generator_32_10.pth\n",
      "outputs/30_giga_dataset_30_all_assets_and_bulbapedia_256x256_e50/generator_32_20.pth\n",
      "outputs/30_giga_dataset_30_all_assets_and_bulbapedia_256x256_e50/generator_32_30.pth\n",
      "outputs/30_giga_dataset_30_all_assets_and_bulbapedia_256x256_e50/generator_32_40.pth\n",
      "outputs/30_giga_dataset_30_all_assets_and_bulbapedia_256x256_e50/generator_4.pth\n",
      "outputs/30_giga_dataset_30_all_assets_and_bulbapedia_256x256_e50/generator_4_10.pth\n",
      "outputs/30_giga_dataset_30_all_assets_and_bulbapedia_256x256_e50/generator_4_20.pth\n",
      "outputs/30_giga_dataset_30_all_assets_and_bulbapedia_256x256_e50/generator_4_30.pth\n",
      "outputs/30_giga_dataset_30_all_assets_and_bulbapedia_256x256_e50/generator_4_40.pth\n",
      "outputs/30_giga_dataset_30_all_assets_and_bulbapedia_256x256_e50/generator_64.pth\n",
      "outputs/30_giga_dataset_30_all_assets_and_bulbapedia_256x256_e50/generator_64_10.pth\n",
      "outputs/30_giga_dataset_30_all_assets_and_bulbapedia_256x256_e50/generator_64_20.pth\n",
      "outputs/30_giga_dataset_30_all_assets_and_bulbapedia_256x256_e50/generator_64_30.pth\n",
      "outputs/30_giga_dataset_30_all_assets_and_bulbapedia_256x256_e50/generator_64_40.pth\n",
      "outputs/30_giga_dataset_30_all_assets_and_bulbapedia_256x256_e50/generator_8.pth\n",
      "outputs/30_giga_dataset_30_all_assets_and_bulbapedia_256x256_e50/generator_8_10.pth\n",
      "outputs/30_giga_dataset_30_all_assets_and_bulbapedia_256x256_e50/generator_8_20.pth\n",
      "outputs/30_giga_dataset_30_all_assets_and_bulbapedia_256x256_e50/generator_8_30.pth\n",
      "outputs/30_giga_dataset_30_all_assets_and_bulbapedia_256x256_e50/generator_8_40.pth\n",
      "['generator_4_10.pth', 'generator_4_20.pth', 'generator_4_30.pth', 'generator_4_40.pth', 'generator_4.pth', 'generator_8_10.pth', 'generator_8_20.pth', 'generator_8_30.pth', 'generator_8_40.pth', 'generator_8.pth', 'generator_16_10.pth', 'generator_16_20.pth', 'generator_16_30.pth', 'generator_16_40.pth', 'generator_16.pth', 'generator_32_10.pth', 'generator_32_20.pth', 'generator_32_30.pth', 'generator_32_40.pth', 'generator_32.pth', 'generator_64_10.pth', 'generator_64_20.pth', 'generator_64_30.pth', 'generator_64_40.pth', 'generator_64.pth']\n",
      "64\n"
     ]
    },
    {
     "data": {
      "image/png": "[encoded data removed]",
      "text/plain": [
       "<Figure size 800x800 with 1 Axes>"
      ]
     },
     "metadata": {},
     "output_type": "display_data"
    }
   ],
   "source": [
    "generate_example_animation('outputs/30_giga_dataset_30_all_assets_and_bulbapedia_256x256_e50', 256, 256, 3, fps=3, display_animation=True)"
   ]
  }
 ],
 "metadata": {
  "kernelspec": {
   "display_name": "Python 3",
   "language": "python",
   "name": "python3"
  },
  "language_info": {
   "codemirror_mode": {
    "name": "ipython",
    "version": 3
   },
   "file_extension": ".py",
   "mimetype": "text/x-python",
   "name": "python",
   "nbconvert_exporter": "python",
   "pygments_lexer": "ipython3",
   "version": "3.10.12"
  }
 },
 "nbformat": 4,
 "nbformat_minor": 2
}
