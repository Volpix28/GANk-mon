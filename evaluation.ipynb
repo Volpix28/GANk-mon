{
 "cells": [
  {
   "cell_type": "code",
   "execution_count": 1,
   "metadata": {},
   "outputs": [
    {
     "name": "stdout",
     "output_type": "stream",
     "text": [
      "Collecting pytorch-fid\n",
      "  Downloading pytorch_fid-0.3.0-py3-none-any.whl.metadata (5.3 kB)\n",
      "Requirement already satisfied: numpy in /root/.local/lib/python3.10/site-packages (from pytorch-fid) (1.26.4)\n",
      "Requirement already satisfied: pillow in /root/.local/lib/python3.10/site-packages (from pytorch-fid) (10.3.0)\n",
      "Requirement already satisfied: scipy in /root/.local/lib/python3.10/site-packages (from pytorch-fid) (1.13.0)\n",
      "Requirement already satisfied: torch>=1.0.1 in /root/.local/lib/python3.10/site-packages (from pytorch-fid) (2.2.2)\n",
      "Requirement already satisfied: torchvision>=0.2.2 in /root/.local/lib/python3.10/site-packages (from pytorch-fid) (0.17.2)\n",
      "Requirement already satisfied: filelock in /root/.local/lib/python3.10/site-packages (from torch>=1.0.1->pytorch-fid) (3.13.4)\n",
      "Requirement already satisfied: typing-extensions>=4.8.0 in /root/.local/lib/python3.10/site-packages (from torch>=1.0.1->pytorch-fid) (4.11.0)\n",
      "Requirement already satisfied: sympy in /root/.local/lib/python3.10/site-packages (from torch>=1.0.1->pytorch-fid) (1.12)\n",
      "Requirement already satisfied: networkx in /root/.local/lib/python3.10/site-packages (from torch>=1.0.1->pytorch-fid) (3.3)\n",
      "Requirement already satisfied: jinja2 in /root/.local/lib/python3.10/site-packages (from torch>=1.0.1->pytorch-fid) (3.1.3)\n",
      "Requirement already satisfied: fsspec in /root/.local/lib/python3.10/site-packages (from torch>=1.0.1->pytorch-fid) (2024.2.0)\n",
      "Requirement already satisfied: nvidia-cuda-nvrtc-cu12==12.1.105 in /root/.local/lib/python3.10/site-packages (from torch>=1.0.1->pytorch-fid) (12.1.105)\n",
      "Requirement already satisfied: nvidia-cuda-runtime-cu12==12.1.105 in /root/.local/lib/python3.10/site-packages (from torch>=1.0.1->pytorch-fid) (12.1.105)\n",
      "Requirement already satisfied: nvidia-cuda-cupti-cu12==12.1.105 in /root/.local/lib/python3.10/site-packages (from torch>=1.0.1->pytorch-fid) (12.1.105)\n",
      "Requirement already satisfied: nvidia-cudnn-cu12==8.9.2.26 in /root/.local/lib/python3.10/site-packages (from torch>=1.0.1->pytorch-fid) (8.9.2.26)\n",
      "Requirement already satisfied: nvidia-cublas-cu12==12.1.3.1 in /root/.local/lib/python3.10/site-packages (from torch>=1.0.1->pytorch-fid) (12.1.3.1)\n",
      "Requirement already satisfied: nvidia-cufft-cu12==11.0.2.54 in /root/.local/lib/python3.10/site-packages (from torch>=1.0.1->pytorch-fid) (11.0.2.54)\n",
      "Requirement already satisfied: nvidia-curand-cu12==10.3.2.106 in /root/.local/lib/python3.10/site-packages (from torch>=1.0.1->pytorch-fid) (10.3.2.106)\n",
      "Requirement already satisfied: nvidia-cusolver-cu12==11.4.5.107 in /root/.local/lib/python3.10/site-packages (from torch>=1.0.1->pytorch-fid) (11.4.5.107)\n",
      "Requirement already satisfied: nvidia-cusparse-cu12==12.1.0.106 in /root/.local/lib/python3.10/site-packages (from torch>=1.0.1->pytorch-fid) (12.1.0.106)\n",
      "Requirement already satisfied: nvidia-nccl-cu12==2.19.3 in /root/.local/lib/python3.10/site-packages (from torch>=1.0.1->pytorch-fid) (2.19.3)\n",
      "Requirement already satisfied: nvidia-nvtx-cu12==12.1.105 in /root/.local/lib/python3.10/site-packages (from torch>=1.0.1->pytorch-fid) (12.1.105)\n",
      "Requirement already satisfied: triton==2.2.0 in /root/.local/lib/python3.10/site-packages (from torch>=1.0.1->pytorch-fid) (2.2.0)\n",
      "Requirement already satisfied: nvidia-nvjitlink-cu12 in /root/.local/lib/python3.10/site-packages (from nvidia-cusolver-cu12==11.4.5.107->torch>=1.0.1->pytorch-fid) (12.4.127)\n",
      "Requirement already satisfied: MarkupSafe>=2.0 in /root/.local/lib/python3.10/site-packages (from jinja2->torch>=1.0.1->pytorch-fid) (2.1.5)\n",
      "Requirement already satisfied: mpmath>=0.19 in /root/.local/lib/python3.10/site-packages (from sympy->torch>=1.0.1->pytorch-fid) (1.3.0)\n",
      "Downloading pytorch_fid-0.3.0-py3-none-any.whl (15 kB)\n",
      "Installing collected packages: pytorch-fid\n",
      "Successfully installed pytorch-fid-0.3.0\n",
      "\u001b[33mWARNING: Running pip as the 'root' user can result in broken permissions and conflicting behaviour with the system package manager. It is recommended to use a virtual environment instead: https://pip.pypa.io/warnings/venv\u001b[0m\u001b[33m\n",
      "\u001b[0m"
     ]
    }
   ],
   "source": [
    "!pip install pytorch-fid"
   ]
  },
  {
   "cell_type": "code",
   "execution_count": 5,
   "metadata": {},
   "outputs": [
    {
     "name": "stdout",
     "output_type": "stream",
     "text": [
      "<module 'pytorch_fid.fid_score' from '/usr/local/lib/python3.10/dist-packages/pytorch_fid/fid_score.py'>\n"
     ]
    },
    {
     "name": "stderr",
     "output_type": "stream",
     "text": [
      "Downloading: \"https://github.com/mseitzer/pytorch-fid/releases/download/fid_weights/pt_inception-2015-12-05-6726825d.pth\" to /root/.cache/torch/hub/checkpoints/pt_inception-2015-12-05-6726825d.pth\n",
      "100%|██████████| 91.2M/91.2M [00:11<00:00, 8.02MB/s]\n",
      "100%|██████████| 230/230 [01:06<00:00,  3.46it/s]\n",
      "100%|██████████| 4/4 [00:01<00:00,  2.17it/s]\n"
     ]
    }
   ],
   "source": [
    "from pytorch_fid import fid_score\n",
    "\n",
    "dataset_path = 'dataset/nested/transformed_data'\n",
    "generations_path = 'saved_examples_50_epochs_base/step5'\n",
    "batch_size = 32\n",
    "device = 'cuda'\n",
    "dims = 64\n",
    "# 64: first max pooling features\n",
    "# 192: second max pooling features\n",
    "# 768: pre-aux classifier features\n",
    "# 2048: final average pooling features (this is the default)\n",
    "\n",
    "print(fid_score)\n",
    "fid_value = fid_score.calculate_fid_given_paths(\n",
    "        [dataset_path, generations_path], batch_size, device, dims,\n",
    ")"
   ]
  },
  {
   "cell_type": "code",
   "execution_count": 6,
   "metadata": {},
   "outputs": [
    {
     "data": {
      "text/plain": [
       "1.5629805935811651"
      ]
     },
     "execution_count": 6,
     "metadata": {},
     "output_type": "execute_result"
    }
   ],
   "source": [
    "fid_value"
   ]
  },
  {
   "cell_type": "markdown",
   "metadata": {},
   "source": [
    "To compute the FID score between two datasets, where images of each dataset are contained in an individual folder:\n",
    "\n",
    "`python -m pytorch_fid path/to/dataset1 path/to/dataset2`\n",
    "\n",
    "To run the evaluation on GPU, use the flag --device cuda:N, where N is the index of the GPU to use."
   ]
  }
 ],
 "metadata": {
  "kernelspec": {
   "display_name": "gan",
   "language": "python",
   "name": "python3"
  },
  "language_info": {
   "codemirror_mode": {
    "name": "ipython",
    "version": 3
   },
   "file_extension": ".py",
   "mimetype": "text/x-python",
   "name": "python",
   "nbconvert_exporter": "python",
   "pygments_lexer": "ipython3",
   "version": "3.10.12"
  }
 },
 "nbformat": 4,
 "nbformat_minor": 2
}
