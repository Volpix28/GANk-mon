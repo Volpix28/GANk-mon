{
 "cells": [
  {
   "cell_type": "code",
   "execution_count": 1,
   "metadata": {},
   "outputs": [
    {
     "name": "stdout",
     "output_type": "stream",
     "text": [
      "Collecting pytorch-fid\n",
      "  Downloading pytorch_fid-0.3.0-py3-none-any.whl.metadata (5.3 kB)\n",
      "Requirement already satisfied: numpy in /Users/alexr./miniforge3/envs/gan/lib/python3.11/site-packages (from pytorch-fid) (1.26.4)\n",
      "Requirement already satisfied: pillow in /Users/alexr./miniforge3/envs/gan/lib/python3.11/site-packages (from pytorch-fid) (10.3.0)\n",
      "Requirement already satisfied: scipy in /Users/alexr./miniforge3/envs/gan/lib/python3.11/site-packages (from pytorch-fid) (1.13.0)\n",
      "Requirement already satisfied: torch>=1.0.1 in /Users/alexr./miniforge3/envs/gan/lib/python3.11/site-packages (from pytorch-fid) (2.2.2)\n",
      "Requirement already satisfied: torchvision>=0.2.2 in /Users/alexr./miniforge3/envs/gan/lib/python3.11/site-packages (from pytorch-fid) (0.17.2)\n",
      "Requirement already satisfied: filelock in /Users/alexr./miniforge3/envs/gan/lib/python3.11/site-packages (from torch>=1.0.1->pytorch-fid) (3.13.4)\n",
      "Requirement already satisfied: typing-extensions>=4.8.0 in /Users/alexr./miniforge3/envs/gan/lib/python3.11/site-packages (from torch>=1.0.1->pytorch-fid) (4.11.0)\n",
      "Requirement already satisfied: sympy in /Users/alexr./miniforge3/envs/gan/lib/python3.11/site-packages (from torch>=1.0.1->pytorch-fid) (1.12)\n",
      "Requirement already satisfied: networkx in /Users/alexr./miniforge3/envs/gan/lib/python3.11/site-packages (from torch>=1.0.1->pytorch-fid) (3.3)\n",
      "Requirement already satisfied: jinja2 in /Users/alexr./miniforge3/envs/gan/lib/python3.11/site-packages (from torch>=1.0.1->pytorch-fid) (3.1.3)\n",
      "Requirement already satisfied: fsspec in /Users/alexr./miniforge3/envs/gan/lib/python3.11/site-packages (from torch>=1.0.1->pytorch-fid) (2024.2.0)\n",
      "Requirement already satisfied: MarkupSafe>=2.0 in /Users/alexr./miniforge3/envs/gan/lib/python3.11/site-packages (from jinja2->torch>=1.0.1->pytorch-fid) (2.1.5)\n",
      "Requirement already satisfied: mpmath>=0.19 in /Users/alexr./miniforge3/envs/gan/lib/python3.11/site-packages (from sympy->torch>=1.0.1->pytorch-fid) (1.3.0)\n",
      "Downloading pytorch_fid-0.3.0-py3-none-any.whl (15 kB)\n",
      "Installing collected packages: pytorch-fid\n",
      "Successfully installed pytorch-fid-0.3.0\n"
     ]
    }
   ],
   "source": [
    "!pip install pytorch-fid"
   ]
  },
  {
   "cell_type": "markdown",
   "metadata": {},
   "source": [
    "To compute the FID score between two datasets, where images of each dataset are contained in an individual folder:\n",
    "\n",
    "`python -m pytorch_fid path/to/dataset1 path/to/dataset2`\n",
    "\n",
    "To run the evaluation on GPU, use the flag --device cuda:N, where N is the index of the GPU to use."
   ]
  }
 ],
 "metadata": {
  "kernelspec": {
   "display_name": "gan",
   "language": "python",
   "name": "python3"
  },
  "language_info": {
   "codemirror_mode": {
    "name": "ipython",
    "version": 3
   },
   "file_extension": ".py",
   "mimetype": "text/x-python",
   "name": "python",
   "nbconvert_exporter": "python",
   "pygments_lexer": "ipython3",
   "version": "3.11.8"
  }
 },
 "nbformat": 4,
 "nbformat_minor": 2
}
