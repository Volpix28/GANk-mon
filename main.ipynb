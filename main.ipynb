{
 "cells": [
  {
   "cell_type": "code",
   "execution_count": 1,
   "metadata": {},
   "outputs": [
    {
     "name": "stderr",
     "output_type": "stream",
     "text": [
      "2024-04-16 18:31:51.091614: I tensorflow/core/util/port.cc:113] oneDNN custom operations are on. You may see slightly different numerical results due to floating-point round-off errors from different computation orders. To turn them off, set the environment variable `TF_ENABLE_ONEDNN_OPTS=0`.\n",
      "2024-04-16 18:31:51.419692: I tensorflow/core/platform/cpu_feature_guard.cc:210] This TensorFlow binary is optimized to use available CPU instructions in performance-critical operations.\n",
      "To enable the following instructions: AVX2 AVX_VNNI FMA, in other operations, rebuild TensorFlow with the appropriate compiler flags.\n",
      "2024-04-16 18:31:52.174640: W tensorflow/compiler/tf2tensorrt/utils/py_utils.cc:38] TF-TRT Warning: Could not find TensorRT\n"
     ]
    }
   ],
   "source": [
    "import os\n",
    "import numpy as np\n",
    "import tensorflow as tf\n",
    "from matplotlib import pyplot as plt\n",
    "from tensorflow.keras.optimizers import Adam\n",
    "from tensorflow.keras.callbacks import Callback\n",
    "# from dataset.DataTransformer import DataTransformer\n",
    "from tensorflow.keras.models import Sequential, Model\n",
    "from tensorflow.keras.losses import BinaryCrossentropy\n",
    "from tensorflow.keras.preprocessing.image import array_to_img\n",
    "from tensorflow.keras.layers import Conv2D, Dense, Flatten, Reshape, LeakyReLU, Dropout, UpSampling2D"
   ]
  },
  {
   "cell_type": "code",
   "execution_count": 2,
   "metadata": {},
   "outputs": [
    {
     "name": "stderr",
     "output_type": "stream",
     "text": [
      "2024-04-16 18:31:53.364914: I external/local_xla/xla/stream_executor/cuda/cuda_executor.cc:984] could not open file to read NUMA node: /sys/bus/pci/devices/0000:01:00.0/numa_node\n",
      "Your kernel may have been built without NUMA support.\n",
      "2024-04-16 18:31:53.376999: W tensorflow/core/common_runtime/gpu/gpu_device.cc:2251] Cannot dlopen some GPU libraries. Please make sure the missing libraries mentioned above are installed properly if you would like to use GPU. Follow the guide at https://www.tensorflow.org/install/gpu for how to download and setup the required libraries for your platform.\n",
      "Skipping registering GPU devices...\n"
     ]
    }
   ],
   "source": [
    "gpus = tf.config.experimental.list_physical_devices('GPU')\n",
    "for gpu in gpus: \n",
    "    tf.config.experimental.set_memory_growth(gpu, True)"
   ]
  },
  {
   "cell_type": "code",
   "execution_count": 3,
   "metadata": {},
   "outputs": [],
   "source": [
    "# transformer = DataTransformer()\n",
    "# transformer.transform_data(\"dataseet/transformed_data\")"
   ]
  },
  {
   "cell_type": "code",
   "execution_count": 4,
   "metadata": {},
   "outputs": [
    {
     "name": "stdout",
     "output_type": "stream",
     "text": [
      "Found 7357 files.\n"
     ]
    }
   ],
   "source": [
    "data_dir = \"dataset/transformed_data\"\n",
    "image_size = (256, 256)\n",
    "batch_size = 4\n",
    "\n",
    "dataset = tf.keras.utils.image_dataset_from_directory(\n",
    "    data_dir,\n",
    "    image_size=image_size,\n",
    "    batch_size=batch_size,\n",
    "    label_mode=None,\n",
    "    validation_split=None,\n",
    "    seed=420\n",
    ")"
   ]
  },
  {
   "cell_type": "markdown",
   "metadata": {},
   "source": [
    "# Model"
   ]
  },
  {
   "cell_type": "code",
   "execution_count": 5,
   "metadata": {},
   "outputs": [],
   "source": [
    "def build_generator(activation): \n",
    "    model = Sequential()\n",
    "    \n",
    "    # Beginnings of a generated image, takes random noise as input in shape of 256*64*64\n",
    "    model.add(Dense(64*64*100, input_dim=100))\n",
    "    model.add(LeakyReLU(0.2))\n",
    "    model.add(Reshape((64,64,100)))\n",
    "    \n",
    "    model.add(UpSampling2D())\n",
    "    model.add(Conv2D(256, 5, padding='same'))\n",
    "    model.add(LeakyReLU(0.2))\n",
    "    \n",
    "    model.add(UpSampling2D())\n",
    "    model.add(Conv2D(256, 5, padding='same'))\n",
    "    model.add(LeakyReLU(0.2))\n",
    "    \n",
    "    model.add(Conv2D(256, 4, padding='same'))\n",
    "    model.add(LeakyReLU(0.2))\n",
    "    \n",
    "    model.add(Conv2D(256, 4, padding='same'))\n",
    "    model.add(LeakyReLU(0.2))\n",
    "    \n",
    "    model.add(Conv2D(3, 4, padding='same', activation=activation))\n",
    "    \n",
    "    return model"
   ]
  },
  {
   "cell_type": "code",
   "execution_count": 6,
   "metadata": {},
   "outputs": [
    {
     "name": "stderr",
     "output_type": "stream",
     "text": [
      "/opt/conda/lib/python3.11/site-packages/keras/src/layers/core/dense.py:86: UserWarning: Do not pass an `input_shape`/`input_dim` argument to a layer. When using Sequential models, prefer using an `Input(shape)` object as the first layer in the model instead.\n",
      "  super().__init__(activity_regularizer=activity_regularizer, **kwargs)\n"
     ]
    },
    {
     "data": {
      "text/html": [
       "<pre style=\"white-space:pre;overflow-x:auto;line-height:normal;font-family:Menlo,'DejaVu Sans Mono',consolas,'Courier New',monospace\"><span style=\"font-weight: bold\">Model: \"sequential\"</span>\n",
       "</pre>\n"
      ],
      "text/plain": [
       "\u001b[1mModel: \"sequential\"\u001b[0m\n"
      ]
     },
     "metadata": {},
     "output_type": "display_data"
    },
    {
     "data": {
      "text/html": [
       "<pre style=\"white-space:pre;overflow-x:auto;line-height:normal;font-family:Menlo,'DejaVu Sans Mono',consolas,'Courier New',monospace\">┏━━━━━━━━━━━━━━━━━━━━━━━━━━━━━━━━━┳━━━━━━━━━━━━━━━━━━━━━━━━┳━━━━━━━━━━━━━━━┓\n",
       "┃<span style=\"font-weight: bold\"> Layer (type)                    </span>┃<span style=\"font-weight: bold\"> Output Shape           </span>┃<span style=\"font-weight: bold\">       Param # </span>┃\n",
       "┡━━━━━━━━━━━━━━━━━━━━━━━━━━━━━━━━━╇━━━━━━━━━━━━━━━━━━━━━━━━╇━━━━━━━━━━━━━━━┩\n",
       "│ dense (<span style=\"color: #0087ff; text-decoration-color: #0087ff\">Dense</span>)                   │ (<span style=\"color: #00d7ff; text-decoration-color: #00d7ff\">None</span>, <span style=\"color: #00af00; text-decoration-color: #00af00\">409600</span>)         │    <span style=\"color: #00af00; text-decoration-color: #00af00\">41,369,600</span> │\n",
       "├─────────────────────────────────┼────────────────────────┼───────────────┤\n",
       "│ leaky_re_lu (<span style=\"color: #0087ff; text-decoration-color: #0087ff\">LeakyReLU</span>)         │ (<span style=\"color: #00d7ff; text-decoration-color: #00d7ff\">None</span>, <span style=\"color: #00af00; text-decoration-color: #00af00\">409600</span>)         │             <span style=\"color: #00af00; text-decoration-color: #00af00\">0</span> │\n",
       "├─────────────────────────────────┼────────────────────────┼───────────────┤\n",
       "│ reshape (<span style=\"color: #0087ff; text-decoration-color: #0087ff\">Reshape</span>)               │ (<span style=\"color: #00d7ff; text-decoration-color: #00d7ff\">None</span>, <span style=\"color: #00af00; text-decoration-color: #00af00\">64</span>, <span style=\"color: #00af00; text-decoration-color: #00af00\">64</span>, <span style=\"color: #00af00; text-decoration-color: #00af00\">100</span>)    │             <span style=\"color: #00af00; text-decoration-color: #00af00\">0</span> │\n",
       "├─────────────────────────────────┼────────────────────────┼───────────────┤\n",
       "│ up_sampling2d (<span style=\"color: #0087ff; text-decoration-color: #0087ff\">UpSampling2D</span>)    │ (<span style=\"color: #00d7ff; text-decoration-color: #00d7ff\">None</span>, <span style=\"color: #00af00; text-decoration-color: #00af00\">128</span>, <span style=\"color: #00af00; text-decoration-color: #00af00\">128</span>, <span style=\"color: #00af00; text-decoration-color: #00af00\">100</span>)  │             <span style=\"color: #00af00; text-decoration-color: #00af00\">0</span> │\n",
       "├─────────────────────────────────┼────────────────────────┼───────────────┤\n",
       "│ conv2d (<span style=\"color: #0087ff; text-decoration-color: #0087ff\">Conv2D</span>)                 │ (<span style=\"color: #00d7ff; text-decoration-color: #00d7ff\">None</span>, <span style=\"color: #00af00; text-decoration-color: #00af00\">128</span>, <span style=\"color: #00af00; text-decoration-color: #00af00\">128</span>, <span style=\"color: #00af00; text-decoration-color: #00af00\">256</span>)  │       <span style=\"color: #00af00; text-decoration-color: #00af00\">640,256</span> │\n",
       "├─────────────────────────────────┼────────────────────────┼───────────────┤\n",
       "│ leaky_re_lu_1 (<span style=\"color: #0087ff; text-decoration-color: #0087ff\">LeakyReLU</span>)       │ (<span style=\"color: #00d7ff; text-decoration-color: #00d7ff\">None</span>, <span style=\"color: #00af00; text-decoration-color: #00af00\">128</span>, <span style=\"color: #00af00; text-decoration-color: #00af00\">128</span>, <span style=\"color: #00af00; text-decoration-color: #00af00\">256</span>)  │             <span style=\"color: #00af00; text-decoration-color: #00af00\">0</span> │\n",
       "├─────────────────────────────────┼────────────────────────┼───────────────┤\n",
       "│ up_sampling2d_1 (<span style=\"color: #0087ff; text-decoration-color: #0087ff\">UpSampling2D</span>)  │ (<span style=\"color: #00d7ff; text-decoration-color: #00d7ff\">None</span>, <span style=\"color: #00af00; text-decoration-color: #00af00\">256</span>, <span style=\"color: #00af00; text-decoration-color: #00af00\">256</span>, <span style=\"color: #00af00; text-decoration-color: #00af00\">256</span>)  │             <span style=\"color: #00af00; text-decoration-color: #00af00\">0</span> │\n",
       "├─────────────────────────────────┼────────────────────────┼───────────────┤\n",
       "│ conv2d_1 (<span style=\"color: #0087ff; text-decoration-color: #0087ff\">Conv2D</span>)               │ (<span style=\"color: #00d7ff; text-decoration-color: #00d7ff\">None</span>, <span style=\"color: #00af00; text-decoration-color: #00af00\">256</span>, <span style=\"color: #00af00; text-decoration-color: #00af00\">256</span>, <span style=\"color: #00af00; text-decoration-color: #00af00\">256</span>)  │     <span style=\"color: #00af00; text-decoration-color: #00af00\">1,638,656</span> │\n",
       "├─────────────────────────────────┼────────────────────────┼───────────────┤\n",
       "│ leaky_re_lu_2 (<span style=\"color: #0087ff; text-decoration-color: #0087ff\">LeakyReLU</span>)       │ (<span style=\"color: #00d7ff; text-decoration-color: #00d7ff\">None</span>, <span style=\"color: #00af00; text-decoration-color: #00af00\">256</span>, <span style=\"color: #00af00; text-decoration-color: #00af00\">256</span>, <span style=\"color: #00af00; text-decoration-color: #00af00\">256</span>)  │             <span style=\"color: #00af00; text-decoration-color: #00af00\">0</span> │\n",
       "├─────────────────────────────────┼────────────────────────┼───────────────┤\n",
       "│ conv2d_2 (<span style=\"color: #0087ff; text-decoration-color: #0087ff\">Conv2D</span>)               │ (<span style=\"color: #00d7ff; text-decoration-color: #00d7ff\">None</span>, <span style=\"color: #00af00; text-decoration-color: #00af00\">256</span>, <span style=\"color: #00af00; text-decoration-color: #00af00\">256</span>, <span style=\"color: #00af00; text-decoration-color: #00af00\">256</span>)  │     <span style=\"color: #00af00; text-decoration-color: #00af00\">1,048,832</span> │\n",
       "├─────────────────────────────────┼────────────────────────┼───────────────┤\n",
       "│ leaky_re_lu_3 (<span style=\"color: #0087ff; text-decoration-color: #0087ff\">LeakyReLU</span>)       │ (<span style=\"color: #00d7ff; text-decoration-color: #00d7ff\">None</span>, <span style=\"color: #00af00; text-decoration-color: #00af00\">256</span>, <span style=\"color: #00af00; text-decoration-color: #00af00\">256</span>, <span style=\"color: #00af00; text-decoration-color: #00af00\">256</span>)  │             <span style=\"color: #00af00; text-decoration-color: #00af00\">0</span> │\n",
       "├─────────────────────────────────┼────────────────────────┼───────────────┤\n",
       "│ conv2d_3 (<span style=\"color: #0087ff; text-decoration-color: #0087ff\">Conv2D</span>)               │ (<span style=\"color: #00d7ff; text-decoration-color: #00d7ff\">None</span>, <span style=\"color: #00af00; text-decoration-color: #00af00\">256</span>, <span style=\"color: #00af00; text-decoration-color: #00af00\">256</span>, <span style=\"color: #00af00; text-decoration-color: #00af00\">256</span>)  │     <span style=\"color: #00af00; text-decoration-color: #00af00\">1,048,832</span> │\n",
       "├─────────────────────────────────┼────────────────────────┼───────────────┤\n",
       "│ leaky_re_lu_4 (<span style=\"color: #0087ff; text-decoration-color: #0087ff\">LeakyReLU</span>)       │ (<span style=\"color: #00d7ff; text-decoration-color: #00d7ff\">None</span>, <span style=\"color: #00af00; text-decoration-color: #00af00\">256</span>, <span style=\"color: #00af00; text-decoration-color: #00af00\">256</span>, <span style=\"color: #00af00; text-decoration-color: #00af00\">256</span>)  │             <span style=\"color: #00af00; text-decoration-color: #00af00\">0</span> │\n",
       "├─────────────────────────────────┼────────────────────────┼───────────────┤\n",
       "│ conv2d_4 (<span style=\"color: #0087ff; text-decoration-color: #0087ff\">Conv2D</span>)               │ (<span style=\"color: #00d7ff; text-decoration-color: #00d7ff\">None</span>, <span style=\"color: #00af00; text-decoration-color: #00af00\">256</span>, <span style=\"color: #00af00; text-decoration-color: #00af00\">256</span>, <span style=\"color: #00af00; text-decoration-color: #00af00\">3</span>)    │        <span style=\"color: #00af00; text-decoration-color: #00af00\">12,291</span> │\n",
       "└─────────────────────────────────┴────────────────────────┴───────────────┘\n",
       "</pre>\n"
      ],
      "text/plain": [
       "┏━━━━━━━━━━━━━━━━━━━━━━━━━━━━━━━━━┳━━━━━━━━━━━━━━━━━━━━━━━━┳━━━━━━━━━━━━━━━┓\n",
       "┃\u001b[1m \u001b[0m\u001b[1mLayer (type)                   \u001b[0m\u001b[1m \u001b[0m┃\u001b[1m \u001b[0m\u001b[1mOutput Shape          \u001b[0m\u001b[1m \u001b[0m┃\u001b[1m \u001b[0m\u001b[1m      Param #\u001b[0m\u001b[1m \u001b[0m┃\n",
       "┡━━━━━━━━━━━━━━━━━━━━━━━━━━━━━━━━━╇━━━━━━━━━━━━━━━━━━━━━━━━╇━━━━━━━━━━━━━━━┩\n",
       "│ dense (\u001b[38;5;33mDense\u001b[0m)                   │ (\u001b[38;5;45mNone\u001b[0m, \u001b[38;5;34m409600\u001b[0m)         │    \u001b[38;5;34m41,369,600\u001b[0m │\n",
       "├─────────────────────────────────┼────────────────────────┼───────────────┤\n",
       "│ leaky_re_lu (\u001b[38;5;33mLeakyReLU\u001b[0m)         │ (\u001b[38;5;45mNone\u001b[0m, \u001b[38;5;34m409600\u001b[0m)         │             \u001b[38;5;34m0\u001b[0m │\n",
       "├─────────────────────────────────┼────────────────────────┼───────────────┤\n",
       "│ reshape (\u001b[38;5;33mReshape\u001b[0m)               │ (\u001b[38;5;45mNone\u001b[0m, \u001b[38;5;34m64\u001b[0m, \u001b[38;5;34m64\u001b[0m, \u001b[38;5;34m100\u001b[0m)    │             \u001b[38;5;34m0\u001b[0m │\n",
       "├─────────────────────────────────┼────────────────────────┼───────────────┤\n",
       "│ up_sampling2d (\u001b[38;5;33mUpSampling2D\u001b[0m)    │ (\u001b[38;5;45mNone\u001b[0m, \u001b[38;5;34m128\u001b[0m, \u001b[38;5;34m128\u001b[0m, \u001b[38;5;34m100\u001b[0m)  │             \u001b[38;5;34m0\u001b[0m │\n",
       "├─────────────────────────────────┼────────────────────────┼───────────────┤\n",
       "│ conv2d (\u001b[38;5;33mConv2D\u001b[0m)                 │ (\u001b[38;5;45mNone\u001b[0m, \u001b[38;5;34m128\u001b[0m, \u001b[38;5;34m128\u001b[0m, \u001b[38;5;34m256\u001b[0m)  │       \u001b[38;5;34m640,256\u001b[0m │\n",
       "├─────────────────────────────────┼────────────────────────┼───────────────┤\n",
       "│ leaky_re_lu_1 (\u001b[38;5;33mLeakyReLU\u001b[0m)       │ (\u001b[38;5;45mNone\u001b[0m, \u001b[38;5;34m128\u001b[0m, \u001b[38;5;34m128\u001b[0m, \u001b[38;5;34m256\u001b[0m)  │             \u001b[38;5;34m0\u001b[0m │\n",
       "├─────────────────────────────────┼────────────────────────┼───────────────┤\n",
       "│ up_sampling2d_1 (\u001b[38;5;33mUpSampling2D\u001b[0m)  │ (\u001b[38;5;45mNone\u001b[0m, \u001b[38;5;34m256\u001b[0m, \u001b[38;5;34m256\u001b[0m, \u001b[38;5;34m256\u001b[0m)  │             \u001b[38;5;34m0\u001b[0m │\n",
       "├─────────────────────────────────┼────────────────────────┼───────────────┤\n",
       "│ conv2d_1 (\u001b[38;5;33mConv2D\u001b[0m)               │ (\u001b[38;5;45mNone\u001b[0m, \u001b[38;5;34m256\u001b[0m, \u001b[38;5;34m256\u001b[0m, \u001b[38;5;34m256\u001b[0m)  │     \u001b[38;5;34m1,638,656\u001b[0m │\n",
       "├─────────────────────────────────┼────────────────────────┼───────────────┤\n",
       "│ leaky_re_lu_2 (\u001b[38;5;33mLeakyReLU\u001b[0m)       │ (\u001b[38;5;45mNone\u001b[0m, \u001b[38;5;34m256\u001b[0m, \u001b[38;5;34m256\u001b[0m, \u001b[38;5;34m256\u001b[0m)  │             \u001b[38;5;34m0\u001b[0m │\n",
       "├─────────────────────────────────┼────────────────────────┼───────────────┤\n",
       "│ conv2d_2 (\u001b[38;5;33mConv2D\u001b[0m)               │ (\u001b[38;5;45mNone\u001b[0m, \u001b[38;5;34m256\u001b[0m, \u001b[38;5;34m256\u001b[0m, \u001b[38;5;34m256\u001b[0m)  │     \u001b[38;5;34m1,048,832\u001b[0m │\n",
       "├─────────────────────────────────┼────────────────────────┼───────────────┤\n",
       "│ leaky_re_lu_3 (\u001b[38;5;33mLeakyReLU\u001b[0m)       │ (\u001b[38;5;45mNone\u001b[0m, \u001b[38;5;34m256\u001b[0m, \u001b[38;5;34m256\u001b[0m, \u001b[38;5;34m256\u001b[0m)  │             \u001b[38;5;34m0\u001b[0m │\n",
       "├─────────────────────────────────┼────────────────────────┼───────────────┤\n",
       "│ conv2d_3 (\u001b[38;5;33mConv2D\u001b[0m)               │ (\u001b[38;5;45mNone\u001b[0m, \u001b[38;5;34m256\u001b[0m, \u001b[38;5;34m256\u001b[0m, \u001b[38;5;34m256\u001b[0m)  │     \u001b[38;5;34m1,048,832\u001b[0m │\n",
       "├─────────────────────────────────┼────────────────────────┼───────────────┤\n",
       "│ leaky_re_lu_4 (\u001b[38;5;33mLeakyReLU\u001b[0m)       │ (\u001b[38;5;45mNone\u001b[0m, \u001b[38;5;34m256\u001b[0m, \u001b[38;5;34m256\u001b[0m, \u001b[38;5;34m256\u001b[0m)  │             \u001b[38;5;34m0\u001b[0m │\n",
       "├─────────────────────────────────┼────────────────────────┼───────────────┤\n",
       "│ conv2d_4 (\u001b[38;5;33mConv2D\u001b[0m)               │ (\u001b[38;5;45mNone\u001b[0m, \u001b[38;5;34m256\u001b[0m, \u001b[38;5;34m256\u001b[0m, \u001b[38;5;34m3\u001b[0m)    │        \u001b[38;5;34m12,291\u001b[0m │\n",
       "└─────────────────────────────────┴────────────────────────┴───────────────┘\n"
      ]
     },
     "metadata": {},
     "output_type": "display_data"
    },
    {
     "data": {
      "text/html": [
       "<pre style=\"white-space:pre;overflow-x:auto;line-height:normal;font-family:Menlo,'DejaVu Sans Mono',consolas,'Courier New',monospace\"><span style=\"font-weight: bold\"> Total params: </span><span style=\"color: #00af00; text-decoration-color: #00af00\">45,758,467</span> (174.55 MB)\n",
       "</pre>\n"
      ],
      "text/plain": [
       "\u001b[1m Total params: \u001b[0m\u001b[38;5;34m45,758,467\u001b[0m (174.55 MB)\n"
      ]
     },
     "metadata": {},
     "output_type": "display_data"
    },
    {
     "data": {
      "text/html": [
       "<pre style=\"white-space:pre;overflow-x:auto;line-height:normal;font-family:Menlo,'DejaVu Sans Mono',consolas,'Courier New',monospace\"><span style=\"font-weight: bold\"> Trainable params: </span><span style=\"color: #00af00; text-decoration-color: #00af00\">45,758,467</span> (174.55 MB)\n",
       "</pre>\n"
      ],
      "text/plain": [
       "\u001b[1m Trainable params: \u001b[0m\u001b[38;5;34m45,758,467\u001b[0m (174.55 MB)\n"
      ]
     },
     "metadata": {},
     "output_type": "display_data"
    },
    {
     "data": {
      "text/html": [
       "<pre style=\"white-space:pre;overflow-x:auto;line-height:normal;font-family:Menlo,'DejaVu Sans Mono',consolas,'Courier New',monospace\"><span style=\"font-weight: bold\"> Non-trainable params: </span><span style=\"color: #00af00; text-decoration-color: #00af00\">0</span> (0.00 B)\n",
       "</pre>\n"
      ],
      "text/plain": [
       "\u001b[1m Non-trainable params: \u001b[0m\u001b[38;5;34m0\u001b[0m (0.00 B)\n"
      ]
     },
     "metadata": {},
     "output_type": "display_data"
    }
   ],
   "source": [
    "generator = build_generator('sigmoid')\n",
    "generator.summary()"
   ]
  },
  {
   "cell_type": "code",
   "execution_count": 7,
   "metadata": {},
   "outputs": [],
   "source": [
    "def build_discriminator(activation): \n",
    "    model = Sequential()\n",
    "    \n",
    "    model.add(Conv2D(32, 5, input_shape = (256,256,3)))\n",
    "    model.add(LeakyReLU(0.2))\n",
    "    model.add(Dropout(0.4))\n",
    "    \n",
    "    model.add(Conv2D(64, 5))\n",
    "    model.add(LeakyReLU(0.2))\n",
    "    model.add(Dropout(0.4))\n",
    "    \n",
    "    model.add(Conv2D(128, 5))\n",
    "    model.add(LeakyReLU(0.2))\n",
    "    model.add(Dropout(0.4))\n",
    "    \n",
    "    model.add(Conv2D(256, 5))\n",
    "    model.add(LeakyReLU(0.2))\n",
    "    model.add(Dropout(0.4))\n",
    "    \n",
    "    model.add(Flatten())\n",
    "    model.add(Dropout(0.4))\n",
    "    model.add(Dense(1, activation=activation))\n",
    "    \n",
    "    return model"
   ]
  },
  {
   "cell_type": "code",
   "execution_count": 8,
   "metadata": {},
   "outputs": [
    {
     "name": "stderr",
     "output_type": "stream",
     "text": [
      "/opt/conda/lib/python3.11/site-packages/keras/src/layers/convolutional/base_conv.py:99: UserWarning: Do not pass an `input_shape`/`input_dim` argument to a layer. When using Sequential models, prefer using an `Input(shape)` object as the first layer in the model instead.\n",
      "  super().__init__(\n"
     ]
    },
    {
     "data": {
      "text/html": [
       "<pre style=\"white-space:pre;overflow-x:auto;line-height:normal;font-family:Menlo,'DejaVu Sans Mono',consolas,'Courier New',monospace\"><span style=\"font-weight: bold\">Model: \"sequential_1\"</span>\n",
       "</pre>\n"
      ],
      "text/plain": [
       "\u001b[1mModel: \"sequential_1\"\u001b[0m\n"
      ]
     },
     "metadata": {},
     "output_type": "display_data"
    },
    {
     "data": {
      "text/html": [
       "<pre style=\"white-space:pre;overflow-x:auto;line-height:normal;font-family:Menlo,'DejaVu Sans Mono',consolas,'Courier New',monospace\">┏━━━━━━━━━━━━━━━━━━━━━━━━━━━━━━━━━┳━━━━━━━━━━━━━━━━━━━━━━━━┳━━━━━━━━━━━━━━━┓\n",
       "┃<span style=\"font-weight: bold\"> Layer (type)                    </span>┃<span style=\"font-weight: bold\"> Output Shape           </span>┃<span style=\"font-weight: bold\">       Param # </span>┃\n",
       "┡━━━━━━━━━━━━━━━━━━━━━━━━━━━━━━━━━╇━━━━━━━━━━━━━━━━━━━━━━━━╇━━━━━━━━━━━━━━━┩\n",
       "│ conv2d_5 (<span style=\"color: #0087ff; text-decoration-color: #0087ff\">Conv2D</span>)               │ (<span style=\"color: #00d7ff; text-decoration-color: #00d7ff\">None</span>, <span style=\"color: #00af00; text-decoration-color: #00af00\">252</span>, <span style=\"color: #00af00; text-decoration-color: #00af00\">252</span>, <span style=\"color: #00af00; text-decoration-color: #00af00\">32</span>)   │         <span style=\"color: #00af00; text-decoration-color: #00af00\">2,432</span> │\n",
       "├─────────────────────────────────┼────────────────────────┼───────────────┤\n",
       "│ leaky_re_lu_5 (<span style=\"color: #0087ff; text-decoration-color: #0087ff\">LeakyReLU</span>)       │ (<span style=\"color: #00d7ff; text-decoration-color: #00d7ff\">None</span>, <span style=\"color: #00af00; text-decoration-color: #00af00\">252</span>, <span style=\"color: #00af00; text-decoration-color: #00af00\">252</span>, <span style=\"color: #00af00; text-decoration-color: #00af00\">32</span>)   │             <span style=\"color: #00af00; text-decoration-color: #00af00\">0</span> │\n",
       "├─────────────────────────────────┼────────────────────────┼───────────────┤\n",
       "│ dropout (<span style=\"color: #0087ff; text-decoration-color: #0087ff\">Dropout</span>)               │ (<span style=\"color: #00d7ff; text-decoration-color: #00d7ff\">None</span>, <span style=\"color: #00af00; text-decoration-color: #00af00\">252</span>, <span style=\"color: #00af00; text-decoration-color: #00af00\">252</span>, <span style=\"color: #00af00; text-decoration-color: #00af00\">32</span>)   │             <span style=\"color: #00af00; text-decoration-color: #00af00\">0</span> │\n",
       "├─────────────────────────────────┼────────────────────────┼───────────────┤\n",
       "│ conv2d_6 (<span style=\"color: #0087ff; text-decoration-color: #0087ff\">Conv2D</span>)               │ (<span style=\"color: #00d7ff; text-decoration-color: #00d7ff\">None</span>, <span style=\"color: #00af00; text-decoration-color: #00af00\">248</span>, <span style=\"color: #00af00; text-decoration-color: #00af00\">248</span>, <span style=\"color: #00af00; text-decoration-color: #00af00\">64</span>)   │        <span style=\"color: #00af00; text-decoration-color: #00af00\">51,264</span> │\n",
       "├─────────────────────────────────┼────────────────────────┼───────────────┤\n",
       "│ leaky_re_lu_6 (<span style=\"color: #0087ff; text-decoration-color: #0087ff\">LeakyReLU</span>)       │ (<span style=\"color: #00d7ff; text-decoration-color: #00d7ff\">None</span>, <span style=\"color: #00af00; text-decoration-color: #00af00\">248</span>, <span style=\"color: #00af00; text-decoration-color: #00af00\">248</span>, <span style=\"color: #00af00; text-decoration-color: #00af00\">64</span>)   │             <span style=\"color: #00af00; text-decoration-color: #00af00\">0</span> │\n",
       "├─────────────────────────────────┼────────────────────────┼───────────────┤\n",
       "│ dropout_1 (<span style=\"color: #0087ff; text-decoration-color: #0087ff\">Dropout</span>)             │ (<span style=\"color: #00d7ff; text-decoration-color: #00d7ff\">None</span>, <span style=\"color: #00af00; text-decoration-color: #00af00\">248</span>, <span style=\"color: #00af00; text-decoration-color: #00af00\">248</span>, <span style=\"color: #00af00; text-decoration-color: #00af00\">64</span>)   │             <span style=\"color: #00af00; text-decoration-color: #00af00\">0</span> │\n",
       "├─────────────────────────────────┼────────────────────────┼───────────────┤\n",
       "│ conv2d_7 (<span style=\"color: #0087ff; text-decoration-color: #0087ff\">Conv2D</span>)               │ (<span style=\"color: #00d7ff; text-decoration-color: #00d7ff\">None</span>, <span style=\"color: #00af00; text-decoration-color: #00af00\">244</span>, <span style=\"color: #00af00; text-decoration-color: #00af00\">244</span>, <span style=\"color: #00af00; text-decoration-color: #00af00\">128</span>)  │       <span style=\"color: #00af00; text-decoration-color: #00af00\">204,928</span> │\n",
       "├─────────────────────────────────┼────────────────────────┼───────────────┤\n",
       "│ leaky_re_lu_7 (<span style=\"color: #0087ff; text-decoration-color: #0087ff\">LeakyReLU</span>)       │ (<span style=\"color: #00d7ff; text-decoration-color: #00d7ff\">None</span>, <span style=\"color: #00af00; text-decoration-color: #00af00\">244</span>, <span style=\"color: #00af00; text-decoration-color: #00af00\">244</span>, <span style=\"color: #00af00; text-decoration-color: #00af00\">128</span>)  │             <span style=\"color: #00af00; text-decoration-color: #00af00\">0</span> │\n",
       "├─────────────────────────────────┼────────────────────────┼───────────────┤\n",
       "│ dropout_2 (<span style=\"color: #0087ff; text-decoration-color: #0087ff\">Dropout</span>)             │ (<span style=\"color: #00d7ff; text-decoration-color: #00d7ff\">None</span>, <span style=\"color: #00af00; text-decoration-color: #00af00\">244</span>, <span style=\"color: #00af00; text-decoration-color: #00af00\">244</span>, <span style=\"color: #00af00; text-decoration-color: #00af00\">128</span>)  │             <span style=\"color: #00af00; text-decoration-color: #00af00\">0</span> │\n",
       "├─────────────────────────────────┼────────────────────────┼───────────────┤\n",
       "│ conv2d_8 (<span style=\"color: #0087ff; text-decoration-color: #0087ff\">Conv2D</span>)               │ (<span style=\"color: #00d7ff; text-decoration-color: #00d7ff\">None</span>, <span style=\"color: #00af00; text-decoration-color: #00af00\">240</span>, <span style=\"color: #00af00; text-decoration-color: #00af00\">240</span>, <span style=\"color: #00af00; text-decoration-color: #00af00\">256</span>)  │       <span style=\"color: #00af00; text-decoration-color: #00af00\">819,456</span> │\n",
       "├─────────────────────────────────┼────────────────────────┼───────────────┤\n",
       "│ leaky_re_lu_8 (<span style=\"color: #0087ff; text-decoration-color: #0087ff\">LeakyReLU</span>)       │ (<span style=\"color: #00d7ff; text-decoration-color: #00d7ff\">None</span>, <span style=\"color: #00af00; text-decoration-color: #00af00\">240</span>, <span style=\"color: #00af00; text-decoration-color: #00af00\">240</span>, <span style=\"color: #00af00; text-decoration-color: #00af00\">256</span>)  │             <span style=\"color: #00af00; text-decoration-color: #00af00\">0</span> │\n",
       "├─────────────────────────────────┼────────────────────────┼───────────────┤\n",
       "│ dropout_3 (<span style=\"color: #0087ff; text-decoration-color: #0087ff\">Dropout</span>)             │ (<span style=\"color: #00d7ff; text-decoration-color: #00d7ff\">None</span>, <span style=\"color: #00af00; text-decoration-color: #00af00\">240</span>, <span style=\"color: #00af00; text-decoration-color: #00af00\">240</span>, <span style=\"color: #00af00; text-decoration-color: #00af00\">256</span>)  │             <span style=\"color: #00af00; text-decoration-color: #00af00\">0</span> │\n",
       "├─────────────────────────────────┼────────────────────────┼───────────────┤\n",
       "│ flatten (<span style=\"color: #0087ff; text-decoration-color: #0087ff\">Flatten</span>)               │ (<span style=\"color: #00d7ff; text-decoration-color: #00d7ff\">None</span>, <span style=\"color: #00af00; text-decoration-color: #00af00\">14745600</span>)       │             <span style=\"color: #00af00; text-decoration-color: #00af00\">0</span> │\n",
       "├─────────────────────────────────┼────────────────────────┼───────────────┤\n",
       "│ dropout_4 (<span style=\"color: #0087ff; text-decoration-color: #0087ff\">Dropout</span>)             │ (<span style=\"color: #00d7ff; text-decoration-color: #00d7ff\">None</span>, <span style=\"color: #00af00; text-decoration-color: #00af00\">14745600</span>)       │             <span style=\"color: #00af00; text-decoration-color: #00af00\">0</span> │\n",
       "├─────────────────────────────────┼────────────────────────┼───────────────┤\n",
       "│ dense_1 (<span style=\"color: #0087ff; text-decoration-color: #0087ff\">Dense</span>)                 │ (<span style=\"color: #00d7ff; text-decoration-color: #00d7ff\">None</span>, <span style=\"color: #00af00; text-decoration-color: #00af00\">1</span>)              │    <span style=\"color: #00af00; text-decoration-color: #00af00\">14,745,601</span> │\n",
       "└─────────────────────────────────┴────────────────────────┴───────────────┘\n",
       "</pre>\n"
      ],
      "text/plain": [
       "┏━━━━━━━━━━━━━━━━━━━━━━━━━━━━━━━━━┳━━━━━━━━━━━━━━━━━━━━━━━━┳━━━━━━━━━━━━━━━┓\n",
       "┃\u001b[1m \u001b[0m\u001b[1mLayer (type)                   \u001b[0m\u001b[1m \u001b[0m┃\u001b[1m \u001b[0m\u001b[1mOutput Shape          \u001b[0m\u001b[1m \u001b[0m┃\u001b[1m \u001b[0m\u001b[1m      Param #\u001b[0m\u001b[1m \u001b[0m┃\n",
       "┡━━━━━━━━━━━━━━━━━━━━━━━━━━━━━━━━━╇━━━━━━━━━━━━━━━━━━━━━━━━╇━━━━━━━━━━━━━━━┩\n",
       "│ conv2d_5 (\u001b[38;5;33mConv2D\u001b[0m)               │ (\u001b[38;5;45mNone\u001b[0m, \u001b[38;5;34m252\u001b[0m, \u001b[38;5;34m252\u001b[0m, \u001b[38;5;34m32\u001b[0m)   │         \u001b[38;5;34m2,432\u001b[0m │\n",
       "├─────────────────────────────────┼────────────────────────┼───────────────┤\n",
       "│ leaky_re_lu_5 (\u001b[38;5;33mLeakyReLU\u001b[0m)       │ (\u001b[38;5;45mNone\u001b[0m, \u001b[38;5;34m252\u001b[0m, \u001b[38;5;34m252\u001b[0m, \u001b[38;5;34m32\u001b[0m)   │             \u001b[38;5;34m0\u001b[0m │\n",
       "├─────────────────────────────────┼────────────────────────┼───────────────┤\n",
       "│ dropout (\u001b[38;5;33mDropout\u001b[0m)               │ (\u001b[38;5;45mNone\u001b[0m, \u001b[38;5;34m252\u001b[0m, \u001b[38;5;34m252\u001b[0m, \u001b[38;5;34m32\u001b[0m)   │             \u001b[38;5;34m0\u001b[0m │\n",
       "├─────────────────────────────────┼────────────────────────┼───────────────┤\n",
       "│ conv2d_6 (\u001b[38;5;33mConv2D\u001b[0m)               │ (\u001b[38;5;45mNone\u001b[0m, \u001b[38;5;34m248\u001b[0m, \u001b[38;5;34m248\u001b[0m, \u001b[38;5;34m64\u001b[0m)   │        \u001b[38;5;34m51,264\u001b[0m │\n",
       "├─────────────────────────────────┼────────────────────────┼───────────────┤\n",
       "│ leaky_re_lu_6 (\u001b[38;5;33mLeakyReLU\u001b[0m)       │ (\u001b[38;5;45mNone\u001b[0m, \u001b[38;5;34m248\u001b[0m, \u001b[38;5;34m248\u001b[0m, \u001b[38;5;34m64\u001b[0m)   │             \u001b[38;5;34m0\u001b[0m │\n",
       "├─────────────────────────────────┼────────────────────────┼───────────────┤\n",
       "│ dropout_1 (\u001b[38;5;33mDropout\u001b[0m)             │ (\u001b[38;5;45mNone\u001b[0m, \u001b[38;5;34m248\u001b[0m, \u001b[38;5;34m248\u001b[0m, \u001b[38;5;34m64\u001b[0m)   │             \u001b[38;5;34m0\u001b[0m │\n",
       "├─────────────────────────────────┼────────────────────────┼───────────────┤\n",
       "│ conv2d_7 (\u001b[38;5;33mConv2D\u001b[0m)               │ (\u001b[38;5;45mNone\u001b[0m, \u001b[38;5;34m244\u001b[0m, \u001b[38;5;34m244\u001b[0m, \u001b[38;5;34m128\u001b[0m)  │       \u001b[38;5;34m204,928\u001b[0m │\n",
       "├─────────────────────────────────┼────────────────────────┼───────────────┤\n",
       "│ leaky_re_lu_7 (\u001b[38;5;33mLeakyReLU\u001b[0m)       │ (\u001b[38;5;45mNone\u001b[0m, \u001b[38;5;34m244\u001b[0m, \u001b[38;5;34m244\u001b[0m, \u001b[38;5;34m128\u001b[0m)  │             \u001b[38;5;34m0\u001b[0m │\n",
       "├─────────────────────────────────┼────────────────────────┼───────────────┤\n",
       "│ dropout_2 (\u001b[38;5;33mDropout\u001b[0m)             │ (\u001b[38;5;45mNone\u001b[0m, \u001b[38;5;34m244\u001b[0m, \u001b[38;5;34m244\u001b[0m, \u001b[38;5;34m128\u001b[0m)  │             \u001b[38;5;34m0\u001b[0m │\n",
       "├─────────────────────────────────┼────────────────────────┼───────────────┤\n",
       "│ conv2d_8 (\u001b[38;5;33mConv2D\u001b[0m)               │ (\u001b[38;5;45mNone\u001b[0m, \u001b[38;5;34m240\u001b[0m, \u001b[38;5;34m240\u001b[0m, \u001b[38;5;34m256\u001b[0m)  │       \u001b[38;5;34m819,456\u001b[0m │\n",
       "├─────────────────────────────────┼────────────────────────┼───────────────┤\n",
       "│ leaky_re_lu_8 (\u001b[38;5;33mLeakyReLU\u001b[0m)       │ (\u001b[38;5;45mNone\u001b[0m, \u001b[38;5;34m240\u001b[0m, \u001b[38;5;34m240\u001b[0m, \u001b[38;5;34m256\u001b[0m)  │             \u001b[38;5;34m0\u001b[0m │\n",
       "├─────────────────────────────────┼────────────────────────┼───────────────┤\n",
       "│ dropout_3 (\u001b[38;5;33mDropout\u001b[0m)             │ (\u001b[38;5;45mNone\u001b[0m, \u001b[38;5;34m240\u001b[0m, \u001b[38;5;34m240\u001b[0m, \u001b[38;5;34m256\u001b[0m)  │             \u001b[38;5;34m0\u001b[0m │\n",
       "├─────────────────────────────────┼────────────────────────┼───────────────┤\n",
       "│ flatten (\u001b[38;5;33mFlatten\u001b[0m)               │ (\u001b[38;5;45mNone\u001b[0m, \u001b[38;5;34m14745600\u001b[0m)       │             \u001b[38;5;34m0\u001b[0m │\n",
       "├─────────────────────────────────┼────────────────────────┼───────────────┤\n",
       "│ dropout_4 (\u001b[38;5;33mDropout\u001b[0m)             │ (\u001b[38;5;45mNone\u001b[0m, \u001b[38;5;34m14745600\u001b[0m)       │             \u001b[38;5;34m0\u001b[0m │\n",
       "├─────────────────────────────────┼────────────────────────┼───────────────┤\n",
       "│ dense_1 (\u001b[38;5;33mDense\u001b[0m)                 │ (\u001b[38;5;45mNone\u001b[0m, \u001b[38;5;34m1\u001b[0m)              │    \u001b[38;5;34m14,745,601\u001b[0m │\n",
       "└─────────────────────────────────┴────────────────────────┴───────────────┘\n"
      ]
     },
     "metadata": {},
     "output_type": "display_data"
    },
    {
     "data": {
      "text/html": [
       "<pre style=\"white-space:pre;overflow-x:auto;line-height:normal;font-family:Menlo,'DejaVu Sans Mono',consolas,'Courier New',monospace\"><span style=\"font-weight: bold\"> Total params: </span><span style=\"color: #00af00; text-decoration-color: #00af00\">15,823,681</span> (60.36 MB)\n",
       "</pre>\n"
      ],
      "text/plain": [
       "\u001b[1m Total params: \u001b[0m\u001b[38;5;34m15,823,681\u001b[0m (60.36 MB)\n"
      ]
     },
     "metadata": {},
     "output_type": "display_data"
    },
    {
     "data": {
      "text/html": [
       "<pre style=\"white-space:pre;overflow-x:auto;line-height:normal;font-family:Menlo,'DejaVu Sans Mono',consolas,'Courier New',monospace\"><span style=\"font-weight: bold\"> Trainable params: </span><span style=\"color: #00af00; text-decoration-color: #00af00\">15,823,681</span> (60.36 MB)\n",
       "</pre>\n"
      ],
      "text/plain": [
       "\u001b[1m Trainable params: \u001b[0m\u001b[38;5;34m15,823,681\u001b[0m (60.36 MB)\n"
      ]
     },
     "metadata": {},
     "output_type": "display_data"
    },
    {
     "data": {
      "text/html": [
       "<pre style=\"white-space:pre;overflow-x:auto;line-height:normal;font-family:Menlo,'DejaVu Sans Mono',consolas,'Courier New',monospace\"><span style=\"font-weight: bold\"> Non-trainable params: </span><span style=\"color: #00af00; text-decoration-color: #00af00\">0</span> (0.00 B)\n",
       "</pre>\n"
      ],
      "text/plain": [
       "\u001b[1m Non-trainable params: \u001b[0m\u001b[38;5;34m0\u001b[0m (0.00 B)\n"
      ]
     },
     "metadata": {},
     "output_type": "display_data"
    }
   ],
   "source": [
    "discriminator = build_discriminator('sigmoid')\n",
    "discriminator.summary()"
   ]
  },
  {
   "cell_type": "code",
   "execution_count": 9,
   "metadata": {},
   "outputs": [],
   "source": [
    "g_opt = Adam(learning_rate=0.0001) \n",
    "d_opt = Adam(learning_rate=0.00001) \n",
    "g_loss = BinaryCrossentropy()\n",
    "d_loss = BinaryCrossentropy()"
   ]
  },
  {
   "cell_type": "code",
   "execution_count": 10,
   "metadata": {},
   "outputs": [],
   "source": [
    "class PokeGAN(Model):\n",
    "    def __init__(self, generator, discriminator, *args, **kwargs):\n",
    "        super().__init__(*args, **kwargs)\n",
    "\n",
    "        self.generator = generator\n",
    "        self.discriminator = discriminator\n",
    "        \n",
    "    def compile(self, g_opt, d_opt, g_loss, d_loss, *args, **kwargs):\n",
    "        super().compile(*args, **kwargs)\n",
    "        \n",
    "        self.g_opt = g_opt\n",
    "        self.d_opt = d_opt\n",
    "        self.g_loss = g_loss\n",
    "        self.d_loss = d_loss \n",
    "\n",
    "    def train_step(self, batch):\n",
    "\n",
    "        real_images = batch\n",
    "        fake_images = self.generator(tf.random.normal((100, 100, 1)), training=False)\n",
    "        \n",
    "        # Discriminator\n",
    "        with tf.GradientTape() as d_tape: \n",
    "            # Pass the real and fake images to the discriminator model\n",
    "            yhat_real = self.discriminator(real_images, training=True) \n",
    "            yhat_fake = self.discriminator(fake_images, training=True)\n",
    "            yhat_realfake = tf.concat([yhat_real, yhat_fake], axis=0)\n",
    "            \n",
    "            # Create labels for real and fakes images\n",
    "            y_realfake = tf.concat([tf.zeros_like(yhat_real), tf.ones_like(yhat_fake)], axis=0)\n",
    "            \n",
    "            # Add some noise to the TRUE outputs\n",
    "            noise_real = 0.15*tf.random.uniform(tf.shape(yhat_real))\n",
    "            noise_fake = -0.15*tf.random.uniform(tf.shape(yhat_fake))\n",
    "            y_realfake += tf.concat([noise_real, noise_fake], axis=0)\n",
    "            total_d_loss = self.d_loss(y_realfake, yhat_realfake)\n",
    "            \n",
    "        # Apply backpropagation\n",
    "        dgrad = d_tape.gradient(total_d_loss, self.discriminator.trainable_variables) \n",
    "        self.d_opt.apply_gradients(zip(dgrad, self.discriminator.trainable_variables))\n",
    "        \n",
    "        # Generator\n",
    "        with tf.GradientTape() as g_tape: \n",
    "            # Generate new images\n",
    "            gen_images = self.generator(tf.random.normal((100,100,1)), training=True)\n",
    "            predicted_labels = self.discriminator(gen_images, training=False)\n",
    "            total_g_loss = self.g_loss(tf.zeros_like(predicted_labels), predicted_labels) \n",
    "            \n",
    "        # Apply backprop\n",
    "        ggrad = g_tape.gradient(total_g_loss, self.generator.trainable_variables)\n",
    "        self.g_opt.apply_gradients(zip(ggrad, self.generator.trainable_variables))\n",
    "        \n",
    "        return {\"d_loss\":total_d_loss, \"g_loss\":total_g_loss}"
   ]
  },
  {
   "cell_type": "code",
   "execution_count": 11,
   "metadata": {},
   "outputs": [],
   "source": [
    "pokegan = PokeGAN(generator, discriminator)\n",
    "pokegan.compile(g_opt, d_opt, g_loss, d_loss)"
   ]
  },
  {
   "cell_type": "code",
   "execution_count": 12,
   "metadata": {},
   "outputs": [],
   "source": [
    "class ModelMonitor(Callback):\n",
    "    def __init__(self, num_img=3, latent_dim=256):\n",
    "        self.num_img = num_img\n",
    "        self.latent_dim = latent_dim\n",
    "\n",
    "    def on_epoch_end(self, epoch, logs=None):\n",
    "        random_latent_vectors = tf.random.uniform((self.num_img, self.latent_dim,3))\n",
    "        generated_images = self.model.generator(random_latent_vectors)\n",
    "        generated_images *= 255\n",
    "        generated_images.numpy()\n",
    "        for i in range(self.num_img):\n",
    "            img = array_to_img(generated_images[i])\n",
    "            img.save(os.path.join('images', f'generated_img_{epoch}_{i}.png'))"
   ]
  },
  {
   "cell_type": "code",
   "execution_count": 13,
   "metadata": {},
   "outputs": [
    {
     "name": "stdout",
     "output_type": "stream",
     "text": [
      "Epoch 1/20\n"
     ]
    },
    {
     "name": "stderr",
     "output_type": "stream",
     "text": [
      "2024-04-16 18:32:09.430216: E tensorflow/core/grappler/optimizers/meta_optimizer.cc:961] remapper failed: INVALID_ARGUMENT: Mutation::Apply error: fanout 'StatefulPartitionedCall/gradient_tape/sequential_1_2/leaky_re_lu_6_1/LeakyRelu/LeakyReluGrad' exist for missing node 'StatefulPartitionedCall/sequential_1_2/conv2d_6_1/add'.\n",
      "2024-04-16 18:32:19.655043: W external/local_tsl/tsl/framework/bfc_allocator.cc:487] Allocator (mklcpu) ran out of memory trying to allocate 5.49GiB (rounded to 5898240000)requested by op StatefulPartitionedCall/sequential_1_4/dropout_4_1/stateless_dropout/stateless_random_uniform/StatelessRandomUniformV2\n",
      "If the cause is memory fragmentation maybe the environment variable 'TF_GPU_ALLOCATOR=cuda_malloc_async' will improve the situation. \n",
      "Current allocation summary follows.\n",
      "Current allocation summary follows.\n",
      "2024-04-16 18:32:19.655090: I external/local_tsl/tsl/framework/bfc_allocator.cc:1044] BFCAllocator dump for mklcpu\n",
      "2024-04-16 18:32:19.655096: I external/local_tsl/tsl/framework/bfc_allocator.cc:1051] Bin (256): \tTotal Chunks: 0, Chunks in use: 0. 0B allocated for chunks. 0B in use in bin. 0B client-requested in use in bin.\n",
      "2024-04-16 18:32:19.655099: I external/local_tsl/tsl/framework/bfc_allocator.cc:1051] Bin (512): \tTotal Chunks: 0, Chunks in use: 0. 0B allocated for chunks. 0B in use in bin. 0B client-requested in use in bin.\n",
      "2024-04-16 18:32:19.655101: I external/local_tsl/tsl/framework/bfc_allocator.cc:1051] Bin (1024): \tTotal Chunks: 0, Chunks in use: 0. 0B allocated for chunks. 0B in use in bin. 0B client-requested in use in bin.\n",
      "2024-04-16 18:32:19.655103: I external/local_tsl/tsl/framework/bfc_allocator.cc:1051] Bin (2048): \tTotal Chunks: 0, Chunks in use: 0. 0B allocated for chunks. 0B in use in bin. 0B client-requested in use in bin.\n",
      "2024-04-16 18:32:19.655105: I external/local_tsl/tsl/framework/bfc_allocator.cc:1051] Bin (4096): \tTotal Chunks: 0, Chunks in use: 0. 0B allocated for chunks. 0B in use in bin. 0B client-requested in use in bin.\n",
      "2024-04-16 18:32:19.655106: I external/local_tsl/tsl/framework/bfc_allocator.cc:1051] Bin (8192): \tTotal Chunks: 0, Chunks in use: 0. 0B allocated for chunks. 0B in use in bin. 0B client-requested in use in bin.\n",
      "2024-04-16 18:32:19.655108: I external/local_tsl/tsl/framework/bfc_allocator.cc:1051] Bin (16384): \tTotal Chunks: 0, Chunks in use: 0. 0B allocated for chunks. 0B in use in bin. 0B client-requested in use in bin.\n",
      "2024-04-16 18:32:19.655110: I external/local_tsl/tsl/framework/bfc_allocator.cc:1051] Bin (32768): \tTotal Chunks: 0, Chunks in use: 0. 0B allocated for chunks. 0B in use in bin. 0B client-requested in use in bin.\n",
      "2024-04-16 18:32:19.655112: I external/local_tsl/tsl/framework/bfc_allocator.cc:1051] Bin (65536): \tTotal Chunks: 0, Chunks in use: 0. 0B allocated for chunks. 0B in use in bin. 0B client-requested in use in bin.\n",
      "2024-04-16 18:32:19.655114: I external/local_tsl/tsl/framework/bfc_allocator.cc:1051] Bin (131072): \tTotal Chunks: 0, Chunks in use: 0. 0B allocated for chunks. 0B in use in bin. 0B client-requested in use in bin.\n",
      "2024-04-16 18:32:19.655116: I external/local_tsl/tsl/framework/bfc_allocator.cc:1051] Bin (262144): \tTotal Chunks: 0, Chunks in use: 0. 0B allocated for chunks. 0B in use in bin. 0B client-requested in use in bin.\n",
      "2024-04-16 18:32:19.655118: I external/local_tsl/tsl/framework/bfc_allocator.cc:1051] Bin (524288): \tTotal Chunks: 3, Chunks in use: 2. 2.44MiB allocated for chunks. 1.56MiB in use in bin. 1.56MiB client-requested in use in bin.\n",
      "2024-04-16 18:32:19.655121: I external/local_tsl/tsl/framework/bfc_allocator.cc:1051] Bin (1048576): \tTotal Chunks: 2, Chunks in use: 2. 3.12MiB allocated for chunks. 3.12MiB in use in bin. 3.12MiB client-requested in use in bin.\n",
      "2024-04-16 18:32:19.655124: I external/local_tsl/tsl/framework/bfc_allocator.cc:1051] Bin (2097152): \tTotal Chunks: 3, Chunks in use: 3. 8.69MiB allocated for chunks. 8.69MiB in use in bin. 8.69MiB client-requested in use in bin.\n",
      "2024-04-16 18:32:19.655126: I external/local_tsl/tsl/framework/bfc_allocator.cc:1051] Bin (4194304): \tTotal Chunks: 6, Chunks in use: 6. 29.88MiB allocated for chunks. 29.88MiB in use in bin. 26.94MiB client-requested in use in bin.\n",
      "2024-04-16 18:32:19.655128: I external/local_tsl/tsl/framework/bfc_allocator.cc:1051] Bin (8388608): \tTotal Chunks: 0, Chunks in use: 0. 0B allocated for chunks. 0B in use in bin. 0B client-requested in use in bin.\n",
      "2024-04-16 18:32:19.655130: I external/local_tsl/tsl/framework/bfc_allocator.cc:1051] Bin (16777216): \tTotal Chunks: 0, Chunks in use: 0. 0B allocated for chunks. 0B in use in bin. 0B client-requested in use in bin.\n",
      "2024-04-16 18:32:19.655133: I external/local_tsl/tsl/framework/bfc_allocator.cc:1051] Bin (33554432): \tTotal Chunks: 2, Chunks in use: 1. 102.25MiB allocated for chunks. 56.25MiB in use in bin. 56.25MiB client-requested in use in bin.\n",
      "2024-04-16 18:32:19.655135: I external/local_tsl/tsl/framework/bfc_allocator.cc:1051] Bin (67108864): \tTotal Chunks: 1, Chunks in use: 1. 109.61MiB allocated for chunks. 109.61MiB in use in bin. 56.25MiB client-requested in use in bin.\n",
      "2024-04-16 18:32:19.655138: I external/local_tsl/tsl/framework/bfc_allocator.cc:1051] Bin (134217728): \tTotal Chunks: 1, Chunks in use: 1. 156.25MiB allocated for chunks. 156.25MiB in use in bin. 156.25MiB client-requested in use in bin.\n",
      "2024-04-16 18:32:19.655141: I external/local_tsl/tsl/framework/bfc_allocator.cc:1051] Bin (268435456): \tTotal Chunks: 6, Chunks in use: 3. 10.60GiB allocated for chunks. 7.21GiB in use in bin. 7.11GiB client-requested in use in bin.\n",
      "2024-04-16 18:32:19.655143: I external/local_tsl/tsl/framework/bfc_allocator.cc:1067] Bin for 5.49GiB was 256.00MiB, Chunk State: \n",
      "2024-04-16 18:32:19.655147: I external/local_tsl/tsl/framework/bfc_allocator.cc:1073]   Size: 355.75MiB | Requested Size: 0B | in_use: 0 | bin_num: 20, prev:   Size: 156.25MiB | Requested Size: 156.25MiB | in_use: 1 | bin_num: -1\n",
      "2024-04-16 18:32:19.655150: I external/local_tsl/tsl/framework/bfc_allocator.cc:1073]   Size: 546.44MiB | Requested Size: 0B | in_use: 0 | bin_num: 20, prev:   Size: 1.47GiB | Requested Size: 1.47GiB | in_use: 1 | bin_num: -1\n",
      "2024-04-16 18:32:19.655152: I external/local_tsl/tsl/framework/bfc_allocator.cc:1073]   Size: 2.51GiB | Requested Size: 0B | in_use: 0 | bin_num: 20, prev:   Size: 5.49GiB | Requested Size: 5.49GiB | in_use: 1 | bin_num: -1\n",
      "2024-04-16 18:32:19.655154: I external/local_tsl/tsl/framework/bfc_allocator.cc:1080] Next region of size 8589934592\n",
      "2024-04-16 18:32:19.655158: I external/local_tsl/tsl/framework/bfc_allocator.cc:1100] InUse at 7f881fffd040 of size 5898240000 next 23\n",
      "2024-04-16 18:32:19.655161: I external/local_tsl/tsl/framework/bfc_allocator.cc:1100] Free  at 7f897f8fd040 of size 2691694592 next 18446744073709551615\n",
      "2024-04-16 18:32:19.655162: I external/local_tsl/tsl/framework/bfc_allocator.cc:1080] Next region of size 2147483648\n",
      "2024-04-16 18:32:19.655164: I external/local_tsl/tsl/framework/bfc_allocator.cc:1100] InUse at 7f8a23fff040 of size 1574502400 next 21\n",
      "2024-04-16 18:32:19.655166: I external/local_tsl/tsl/framework/bfc_allocator.cc:1100] Free  at 7f8a81d8f040 of size 572981248 next 18446744073709551615\n",
      "2024-04-16 18:32:19.655168: I external/local_tsl/tsl/framework/bfc_allocator.cc:1080] Next region of size 536870912\n",
      "2024-04-16 18:32:19.655169: I external/local_tsl/tsl/framework/bfc_allocator.cc:1100] InUse at 7f8b2bffd040 of size 163840000 next 3\n",
      "2024-04-16 18:32:19.655171: I external/local_tsl/tsl/framework/bfc_allocator.cc:1100] Free  at 7f8b35c3d040 of size 373030912 next 18446744073709551615\n",
      "2024-04-16 18:32:19.655173: I external/local_tsl/tsl/framework/bfc_allocator.cc:1080] Next region of size 268435456\n",
      "2024-04-16 18:32:19.655174: I external/local_tsl/tsl/framework/bfc_allocator.cc:1100] InUse at 7f8b4bffe040 of size 1638400 next 4\n",
      "2024-04-16 18:32:19.655176: I external/local_tsl/tsl/framework/bfc_allocator.cc:1100] InUse at 7f8b4c18e040 of size 5120000 next 6\n",
      "2024-04-16 18:32:19.655178: I external/local_tsl/tsl/framework/bfc_allocator.cc:1100] InUse at 7f8b4c670040 of size 2560000 next 7\n",
      "2024-04-16 18:32:19.655180: I external/local_tsl/tsl/framework/bfc_allocator.cc:1100] InUse at 7f8b4c8e1040 of size 1638400 next 12\n",
      "2024-04-16 18:32:19.655181: I external/local_tsl/tsl/framework/bfc_allocator.cc:1100] InUse at 7f8b4ca71040 of size 819200 next 13\n",
      "2024-04-16 18:32:19.655183: I external/local_tsl/tsl/framework/bfc_allocator.cc:1100] InUse at 7f8b4cb39040 of size 819200 next 19\n",
      "2024-04-16 18:32:19.655185: I external/local_tsl/tsl/framework/bfc_allocator.cc:1100] Free  at 7f8b4cc01040 of size 917504 next 5\n",
      "2024-04-16 18:32:19.655186: I external/local_tsl/tsl/framework/bfc_allocator.cc:1100] InUse at 7f8b4cce1040 of size 4194304 next 10\n",
      "2024-04-16 18:32:19.655188: I external/local_tsl/tsl/framework/bfc_allocator.cc:1100] InUse at 7f8b4d0e1040 of size 4718592 next 8\n",
      "2024-04-16 18:32:19.655190: I external/local_tsl/tsl/framework/bfc_allocator.cc:1100] InUse at 7f8b4d561040 of size 6553600 next 9\n",
      "2024-04-16 18:32:19.655192: I external/local_tsl/tsl/framework/bfc_allocator.cc:1100] InUse at 7f8b4dba1040 of size 3276800 next 11\n",
      "2024-04-16 18:32:19.655194: I external/local_tsl/tsl/framework/bfc_allocator.cc:1100] InUse at 7f8b4dec1040 of size 3276800 next 14\n",
      "2024-04-16 18:32:19.655195: I external/local_tsl/tsl/framework/bfc_allocator.cc:1100] InUse at 7f8b4e1e1040 of size 58982400 next 15\n",
      "2024-04-16 18:32:19.655197: I external/local_tsl/tsl/framework/bfc_allocator.cc:1100] InUse at 7f8b51a21040 of size 6553600 next 17\n",
      "2024-04-16 18:32:19.655199: I external/local_tsl/tsl/framework/bfc_allocator.cc:1100] InUse at 7f8b52061040 of size 4194304 next 18\n",
      "2024-04-16 18:32:19.655200: I external/local_tsl/tsl/framework/bfc_allocator.cc:1100] Free  at 7f8b52461040 of size 48234496 next 16\n",
      "2024-04-16 18:32:19.655202: I external/local_tsl/tsl/framework/bfc_allocator.cc:1100] InUse at 7f8b55261040 of size 114937856 next 18446744073709551615\n",
      "2024-04-16 18:32:19.655204: I external/local_tsl/tsl/framework/bfc_allocator.cc:1080] Next region of size 268435456\n",
      "2024-04-16 18:32:19.655206: I external/local_tsl/tsl/framework/bfc_allocator.cc:1100] InUse at 7f8b5bfff040 of size 268435456 next 18446744073709551615\n",
      "2024-04-16 18:32:19.655207: I external/local_tsl/tsl/framework/bfc_allocator.cc:1105]      Summary of in-use Chunks by size: \n",
      "2024-04-16 18:32:19.655210: I external/local_tsl/tsl/framework/bfc_allocator.cc:1108] 2 Chunks of size 819200 totalling 1.56MiB\n",
      "2024-04-16 18:32:19.655212: I external/local_tsl/tsl/framework/bfc_allocator.cc:1108] 2 Chunks of size 1638400 totalling 3.12MiB\n",
      "2024-04-16 18:32:19.655214: I external/local_tsl/tsl/framework/bfc_allocator.cc:1108] 1 Chunks of size 2560000 totalling 2.44MiB\n",
      "2024-04-16 18:32:19.655215: I external/local_tsl/tsl/framework/bfc_allocator.cc:1108] 2 Chunks of size 3276800 totalling 6.25MiB\n",
      "2024-04-16 18:32:19.655217: I external/local_tsl/tsl/framework/bfc_allocator.cc:1108] 2 Chunks of size 4194304 totalling 8.00MiB\n",
      "2024-04-16 18:32:19.655219: I external/local_tsl/tsl/framework/bfc_allocator.cc:1108] 1 Chunks of size 4718592 totalling 4.50MiB\n",
      "2024-04-16 18:32:19.655221: I external/local_tsl/tsl/framework/bfc_allocator.cc:1108] 1 Chunks of size 5120000 totalling 4.88MiB\n",
      "2024-04-16 18:32:19.655222: I external/local_tsl/tsl/framework/bfc_allocator.cc:1108] 2 Chunks of size 6553600 totalling 12.50MiB\n",
      "2024-04-16 18:32:19.655224: I external/local_tsl/tsl/framework/bfc_allocator.cc:1108] 1 Chunks of size 58982400 totalling 56.25MiB\n",
      "2024-04-16 18:32:19.655226: I external/local_tsl/tsl/framework/bfc_allocator.cc:1108] 1 Chunks of size 114937856 totalling 109.61MiB\n",
      "2024-04-16 18:32:19.655228: I external/local_tsl/tsl/framework/bfc_allocator.cc:1108] 1 Chunks of size 163840000 totalling 156.25MiB\n",
      "2024-04-16 18:32:19.655230: I external/local_tsl/tsl/framework/bfc_allocator.cc:1108] 1 Chunks of size 268435456 totalling 256.00MiB\n",
      "2024-04-16 18:32:19.655232: I external/local_tsl/tsl/framework/bfc_allocator.cc:1108] 1 Chunks of size 1574502400 totalling 1.47GiB\n",
      "2024-04-16 18:32:19.655233: I external/local_tsl/tsl/framework/bfc_allocator.cc:1108] 1 Chunks of size 5898240000 totalling 5.49GiB\n",
      "2024-04-16 18:32:19.655235: I external/local_tsl/tsl/framework/bfc_allocator.cc:1112] Sum Total of in-use chunks: 7.57GiB\n",
      "2024-04-16 18:32:19.655246: I external/local_tsl/tsl/framework/bfc_allocator.cc:1114] Total bytes in pool: 11811160064 memory_limit_: 16671965184 available bytes: 4860805120 curr_region_allocation_bytes_: 8589934592\n",
      "2024-04-16 18:32:19.655252: I external/local_tsl/tsl/framework/bfc_allocator.cc:1119] Stats: \n",
      "Limit:                     16671965184\n",
      "InUse:                      8124301312\n",
      "MaxInUse:                   8124301312\n",
      "NumAllocs:                          41\n",
      "MaxAllocSize:               5898240000\n",
      "Reserved:                            0\n",
      "PeakReserved:                        0\n",
      "LargestFreeBlock:                    0\n",
      "\n",
      "2024-04-16 18:32:19.655256: W external/local_tsl/tsl/framework/bfc_allocator.cc:499] **************************************************______________________***************___***__*****\n",
      "2024-04-16 18:32:19.655295: W tensorflow/core/framework/op_kernel.cc:1839] OP_REQUIRES failed at stateless_random_ops_v2.cc:64 : RESOURCE_EXHAUSTED: OOM when allocating tensor with shape[100,14745600] and type float on /job:localhost/replica:0/task:0/device:CPU:0 by allocator mklcpu\n",
      "2024-04-16 18:32:19.655312: W tensorflow/core/framework/local_rendezvous.cc:404] Local rendezvous is aborting with status: RESOURCE_EXHAUSTED: OOM when allocating tensor with shape[100,14745600] and type float on /job:localhost/replica:0/task:0/device:CPU:0 by allocator mklcpu\n",
      "\t [[{{function_node __inference_one_step_on_data_5804}}{{node sequential_1_4/dropout_4_1/stateless_dropout/stateless_random_uniform/StatelessRandomUniformV2}}]]\n",
      "Hint: If you want to see a list of allocated tensors when OOM happens, add report_tensor_allocations_upon_oom to RunOptions for current allocation info. This isn't available when running in Eager mode.\n",
      "\n",
      "2024-04-16 18:32:37.225618: W external/local_tsl/tsl/framework/bfc_allocator.cc:487] Allocator (mklcpu) ran out of memory trying to allocate 6.25GiB (rounded to 6710886400)requested by op StatefulPartitionedCall/sequential_1/up_sampling2d_1_2/Repeat_1/Tile\n",
      "If the cause is memory fragmentation maybe the environment variable 'TF_GPU_ALLOCATOR=cuda_malloc_async' will improve the situation. \n",
      "Current allocation summary follows.\n",
      "Current allocation summary follows.\n",
      "2024-04-16 18:32:37.227217: I external/local_tsl/tsl/framework/bfc_allocator.cc:1044] BFCAllocator dump for mklcpu\n",
      "2024-04-16 18:32:37.227520: I external/local_tsl/tsl/framework/bfc_allocator.cc:1051] Bin (256): \tTotal Chunks: 0, Chunks in use: 0. 0B allocated for chunks. 0B in use in bin. 0B client-requested in use in bin.\n",
      "2024-04-16 18:32:37.227541: I external/local_tsl/tsl/framework/bfc_allocator.cc:1051] Bin (512): \tTotal Chunks: 0, Chunks in use: 0. 0B allocated for chunks. 0B in use in bin. 0B client-requested in use in bin.\n",
      "2024-04-16 18:32:37.227544: I external/local_tsl/tsl/framework/bfc_allocator.cc:1051] Bin (1024): \tTotal Chunks: 0, Chunks in use: 0. 0B allocated for chunks. 0B in use in bin. 0B client-requested in use in bin.\n",
      "2024-04-16 18:32:37.227560: I external/local_tsl/tsl/framework/bfc_allocator.cc:1051] Bin (2048): \tTotal Chunks: 0, Chunks in use: 0. 0B allocated for chunks. 0B in use in bin. 0B client-requested in use in bin.\n",
      "2024-04-16 18:32:37.227563: I external/local_tsl/tsl/framework/bfc_allocator.cc:1051] Bin (4096): \tTotal Chunks: 0, Chunks in use: 0. 0B allocated for chunks. 0B in use in bin. 0B client-requested in use in bin.\n",
      "2024-04-16 18:32:37.227566: I external/local_tsl/tsl/framework/bfc_allocator.cc:1051] Bin (8192): \tTotal Chunks: 0, Chunks in use: 0. 0B allocated for chunks. 0B in use in bin. 0B client-requested in use in bin.\n",
      "2024-04-16 18:32:37.227568: I external/local_tsl/tsl/framework/bfc_allocator.cc:1051] Bin (16384): \tTotal Chunks: 0, Chunks in use: 0. 0B allocated for chunks. 0B in use in bin. 0B client-requested in use in bin.\n",
      "2024-04-16 18:32:37.227571: I external/local_tsl/tsl/framework/bfc_allocator.cc:1051] Bin (32768): \tTotal Chunks: 0, Chunks in use: 0. 0B allocated for chunks. 0B in use in bin. 0B client-requested in use in bin.\n",
      "2024-04-16 18:32:37.227573: I external/local_tsl/tsl/framework/bfc_allocator.cc:1051] Bin (65536): \tTotal Chunks: 0, Chunks in use: 0. 0B allocated for chunks. 0B in use in bin. 0B client-requested in use in bin.\n",
      "2024-04-16 18:32:37.227576: I external/local_tsl/tsl/framework/bfc_allocator.cc:1051] Bin (131072): \tTotal Chunks: 0, Chunks in use: 0. 0B allocated for chunks. 0B in use in bin. 0B client-requested in use in bin.\n",
      "2024-04-16 18:32:37.227579: I external/local_tsl/tsl/framework/bfc_allocator.cc:1051] Bin (262144): \tTotal Chunks: 0, Chunks in use: 0. 0B allocated for chunks. 0B in use in bin. 0B client-requested in use in bin.\n",
      "2024-04-16 18:32:37.227584: I external/local_tsl/tsl/framework/bfc_allocator.cc:1051] Bin (524288): \tTotal Chunks: 3, Chunks in use: 2. 2.44MiB allocated for chunks. 1.56MiB in use in bin. 1.56MiB client-requested in use in bin.\n",
      "2024-04-16 18:32:37.227588: I external/local_tsl/tsl/framework/bfc_allocator.cc:1051] Bin (1048576): \tTotal Chunks: 2, Chunks in use: 2. 3.12MiB allocated for chunks. 3.12MiB in use in bin. 3.12MiB client-requested in use in bin.\n",
      "2024-04-16 18:32:37.227592: I external/local_tsl/tsl/framework/bfc_allocator.cc:1051] Bin (2097152): \tTotal Chunks: 3, Chunks in use: 3. 8.69MiB allocated for chunks. 8.69MiB in use in bin. 8.69MiB client-requested in use in bin.\n",
      "2024-04-16 18:32:37.227596: I external/local_tsl/tsl/framework/bfc_allocator.cc:1051] Bin (4194304): \tTotal Chunks: 6, Chunks in use: 6. 29.88MiB allocated for chunks. 29.88MiB in use in bin. 26.94MiB client-requested in use in bin.\n",
      "2024-04-16 18:32:37.227598: I external/local_tsl/tsl/framework/bfc_allocator.cc:1051] Bin (8388608): \tTotal Chunks: 0, Chunks in use: 0. 0B allocated for chunks. 0B in use in bin. 0B client-requested in use in bin.\n",
      "2024-04-16 18:32:37.227601: I external/local_tsl/tsl/framework/bfc_allocator.cc:1051] Bin (16777216): \tTotal Chunks: 0, Chunks in use: 0. 0B allocated for chunks. 0B in use in bin. 0B client-requested in use in bin.\n",
      "2024-04-16 18:32:37.227605: I external/local_tsl/tsl/framework/bfc_allocator.cc:1051] Bin (33554432): \tTotal Chunks: 2, Chunks in use: 1. 102.25MiB allocated for chunks. 56.25MiB in use in bin. 56.25MiB client-requested in use in bin.\n",
      "2024-04-16 18:32:37.227608: I external/local_tsl/tsl/framework/bfc_allocator.cc:1051] Bin (67108864): \tTotal Chunks: 1, Chunks in use: 1. 109.61MiB allocated for chunks. 109.61MiB in use in bin. 56.25MiB client-requested in use in bin.\n",
      "2024-04-16 18:32:37.227615: I external/local_tsl/tsl/framework/bfc_allocator.cc:1051] Bin (134217728): \tTotal Chunks: 5, Chunks in use: 3. 805.50MiB allocated for chunks. 521.10MiB in use in bin. 506.30MiB client-requested in use in bin.\n",
      "2024-04-16 18:32:37.227618: I external/local_tsl/tsl/framework/bfc_allocator.cc:1051] Bin (268435456): \tTotal Chunks: 13, Chunks in use: 8. 14.49GiB allocated for chunks. 9.56GiB in use in bin. 9.46GiB client-requested in use in bin.\n",
      "2024-04-16 18:32:37.227622: I external/local_tsl/tsl/framework/bfc_allocator.cc:1067] Bin for 6.25GiB was 256.00MiB, Chunk State: \n",
      "2024-04-16 18:32:37.227627: I external/local_tsl/tsl/framework/bfc_allocator.cc:1073]   Size: 355.75MiB | Requested Size: 156.25MiB | in_use: 0 | bin_num: 20, prev:   Size: 156.25MiB | Requested Size: 156.25MiB | in_use: 1 | bin_num: -1\n",
      "2024-04-16 18:32:37.227633: I external/local_tsl/tsl/framework/bfc_allocator.cc:1073]   Size: 825.00MiB | Requested Size: 775.20MiB | in_use: 0 | bin_num: 20, prev:   Size: 1.56GiB | Requested Size: 1.56GiB | in_use: 1 | bin_num: -1, next:   Size: 1.37GiB | Requested Size: 1.37GiB | in_use: 1 | bin_num: -1\n",
      "2024-04-16 18:32:37.227638: I external/local_tsl/tsl/framework/bfc_allocator.cc:1073]   Size: 1.08GiB | Requested Size: 0B | in_use: 0 | bin_num: 20, prev:   Size: 3.12GiB | Requested Size: 3.12GiB | in_use: 1 | bin_num: -1, next:   Size: 193.80MiB | Requested Size: 193.80MiB | in_use: 1 | bin_num: -1\n",
      "2024-04-16 18:32:37.227641: I external/local_tsl/tsl/framework/bfc_allocator.cc:1073]   Size: 1.13GiB | Requested Size: 625.00MiB | in_use: 0 | bin_num: 20, prev:   Size: 1.37GiB | Requested Size: 1.37GiB | in_use: 1 | bin_num: -1\n",
      "2024-04-16 18:32:37.227644: I external/local_tsl/tsl/framework/bfc_allocator.cc:1073]   Size: 1.56GiB | Requested Size: 1.56GiB | in_use: 0 | bin_num: 20, next:   Size: 1.56GiB | Requested Size: 1.56GiB | in_use: 1 | bin_num: -1\n",
      "2024-04-16 18:32:37.227647: I external/local_tsl/tsl/framework/bfc_allocator.cc:1080] Next region of size 4860805120\n",
      "2024-04-16 18:32:37.228001: I external/local_tsl/tsl/framework/bfc_allocator.cc:1100] InUse at 7f86ee45b040 of size 3355443200 next 32\n",
      "2024-04-16 18:32:37.228018: I external/local_tsl/tsl/framework/bfc_allocator.cc:1100] Free  at 7f87b645b040 of size 1161011200 next 31\n",
      "2024-04-16 18:32:37.228022: I external/local_tsl/tsl/framework/bfc_allocator.cc:1100] InUse at 7f87fb795040 of size 203212800 next 34\n",
      "2024-04-16 18:32:37.228025: I external/local_tsl/tsl/framework/bfc_allocator.cc:1100] Free  at 7f8807961840 of size 141137920 next 18446744073709551615\n",
      "2024-04-16 18:32:37.228028: I external/local_tsl/tsl/framework/bfc_allocator.cc:1080] Next region of size 8589934592\n",
      "2024-04-16 18:32:37.228031: I external/local_tsl/tsl/framework/bfc_allocator.cc:1100] Free  at 7f881fffd040 of size 1677721600 next 26\n",
      "2024-04-16 18:32:37.228033: I external/local_tsl/tsl/framework/bfc_allocator.cc:1100] InUse at 7f8883ffd040 of size 1677721600 next 30\n",
      "2024-04-16 18:32:37.228036: I external/local_tsl/tsl/framework/bfc_allocator.cc:1100] InUse at 7f88e7ffd040 of size 1677721600 next 25\n",
      "2024-04-16 18:32:37.228038: I external/local_tsl/tsl/framework/bfc_allocator.cc:1100] Free  at 7f894bffd040 of size 865075200 next 23\n",
      "2024-04-16 18:32:37.228040: I external/local_tsl/tsl/framework/bfc_allocator.cc:1100] InUse at 7f897f8fd040 of size 1474560000 next 27\n",
      "2024-04-16 18:32:37.228043: I external/local_tsl/tsl/framework/bfc_allocator.cc:1100] Free  at 7f89d773d040 of size 1217134592 next 18446744073709551615\n",
      "2024-04-16 18:32:37.228045: I external/local_tsl/tsl/framework/bfc_allocator.cc:1080] Next region of size 2147483648\n",
      "2024-04-16 18:32:37.228048: I external/local_tsl/tsl/framework/bfc_allocator.cc:1100] InUse at 7f8a23fff040 of size 762060800 next 33\n",
      "2024-04-16 18:32:37.228051: I external/local_tsl/tsl/framework/bfc_allocator.cc:1100] InUse at 7f8a516c1040 of size 655360000 next 29\n",
      "2024-04-16 18:32:37.228054: I external/local_tsl/tsl/framework/bfc_allocator.cc:1100] Free  at 7f8a787c1040 of size 157081600 next 21\n",
      "2024-04-16 18:32:37.228057: I external/local_tsl/tsl/framework/bfc_allocator.cc:1100] InUse at 7f8a81d8f040 of size 393625600 next 28\n",
      "2024-04-16 18:32:37.228060: I external/local_tsl/tsl/framework/bfc_allocator.cc:1100] InUse at 7f8a994f3040 of size 179355648 next 18446744073709551615\n",
      "2024-04-16 18:32:37.228062: I external/local_tsl/tsl/framework/bfc_allocator.cc:1080] Next region of size 536870912\n",
      "2024-04-16 18:32:37.228065: I external/local_tsl/tsl/framework/bfc_allocator.cc:1100] InUse at 7f8b2bffd040 of size 163840000 next 3\n",
      "2024-04-16 18:32:37.228067: I external/local_tsl/tsl/framework/bfc_allocator.cc:1100] Free  at 7f8b35c3d040 of size 373030912 next 18446744073709551615\n",
      "2024-04-16 18:32:37.228069: I external/local_tsl/tsl/framework/bfc_allocator.cc:1080] Next region of size 268435456\n",
      "2024-04-16 18:32:37.228072: I external/local_tsl/tsl/framework/bfc_allocator.cc:1100] InUse at 7f8b4bffe040 of size 1638400 next 4\n",
      "2024-04-16 18:32:37.228075: I external/local_tsl/tsl/framework/bfc_allocator.cc:1100] InUse at 7f8b4c18e040 of size 5120000 next 6\n",
      "2024-04-16 18:32:37.228077: I external/local_tsl/tsl/framework/bfc_allocator.cc:1100] InUse at 7f8b4c670040 of size 2560000 next 7\n",
      "2024-04-16 18:32:37.228080: I external/local_tsl/tsl/framework/bfc_allocator.cc:1100] InUse at 7f8b4c8e1040 of size 1638400 next 12\n",
      "2024-04-16 18:32:37.228082: I external/local_tsl/tsl/framework/bfc_allocator.cc:1100] InUse at 7f8b4ca71040 of size 819200 next 13\n",
      "2024-04-16 18:32:37.228084: I external/local_tsl/tsl/framework/bfc_allocator.cc:1100] InUse at 7f8b4cb39040 of size 819200 next 19\n",
      "2024-04-16 18:32:37.228087: I external/local_tsl/tsl/framework/bfc_allocator.cc:1100] Free  at 7f8b4cc01040 of size 917504 next 5\n",
      "2024-04-16 18:32:37.228089: I external/local_tsl/tsl/framework/bfc_allocator.cc:1100] InUse at 7f8b4cce1040 of size 4194304 next 10\n",
      "2024-04-16 18:32:37.228092: I external/local_tsl/tsl/framework/bfc_allocator.cc:1100] InUse at 7f8b4d0e1040 of size 4718592 next 8\n",
      "2024-04-16 18:32:37.228094: I external/local_tsl/tsl/framework/bfc_allocator.cc:1100] InUse at 7f8b4d561040 of size 6553600 next 9\n",
      "2024-04-16 18:32:37.228096: I external/local_tsl/tsl/framework/bfc_allocator.cc:1100] InUse at 7f8b4dba1040 of size 3276800 next 11\n",
      "2024-04-16 18:32:37.228099: I external/local_tsl/tsl/framework/bfc_allocator.cc:1100] InUse at 7f8b4dec1040 of size 3276800 next 14\n",
      "2024-04-16 18:32:37.228101: I external/local_tsl/tsl/framework/bfc_allocator.cc:1100] InUse at 7f8b4e1e1040 of size 58982400 next 15\n",
      "2024-04-16 18:32:37.228103: I external/local_tsl/tsl/framework/bfc_allocator.cc:1100] InUse at 7f8b51a21040 of size 6553600 next 17\n",
      "2024-04-16 18:32:37.228106: I external/local_tsl/tsl/framework/bfc_allocator.cc:1100] InUse at 7f8b52061040 of size 4194304 next 18\n",
      "2024-04-16 18:32:37.228108: I external/local_tsl/tsl/framework/bfc_allocator.cc:1100] Free  at 7f8b52461040 of size 48234496 next 16\n",
      "2024-04-16 18:32:37.228110: I external/local_tsl/tsl/framework/bfc_allocator.cc:1100] InUse at 7f8b55261040 of size 114937856 next 18446744073709551615\n",
      "2024-04-16 18:32:37.228113: I external/local_tsl/tsl/framework/bfc_allocator.cc:1080] Next region of size 268435456\n",
      "2024-04-16 18:32:37.228115: I external/local_tsl/tsl/framework/bfc_allocator.cc:1100] InUse at 7f8b5bfff040 of size 268435456 next 18446744073709551615\n",
      "2024-04-16 18:32:37.228191: I external/local_tsl/tsl/framework/bfc_allocator.cc:1105]      Summary of in-use Chunks by size: \n",
      "2024-04-16 18:32:37.228198: I external/local_tsl/tsl/framework/bfc_allocator.cc:1108] 2 Chunks of size 819200 totalling 1.56MiB\n",
      "2024-04-16 18:32:37.228201: I external/local_tsl/tsl/framework/bfc_allocator.cc:1108] 2 Chunks of size 1638400 totalling 3.12MiB\n",
      "2024-04-16 18:32:37.228204: I external/local_tsl/tsl/framework/bfc_allocator.cc:1108] 1 Chunks of size 2560000 totalling 2.44MiB\n",
      "2024-04-16 18:32:37.228207: I external/local_tsl/tsl/framework/bfc_allocator.cc:1108] 2 Chunks of size 3276800 totalling 6.25MiB\n",
      "2024-04-16 18:32:37.228210: I external/local_tsl/tsl/framework/bfc_allocator.cc:1108] 2 Chunks of size 4194304 totalling 8.00MiB\n",
      "2024-04-16 18:32:37.228212: I external/local_tsl/tsl/framework/bfc_allocator.cc:1108] 1 Chunks of size 4718592 totalling 4.50MiB\n",
      "2024-04-16 18:32:37.228215: I external/local_tsl/tsl/framework/bfc_allocator.cc:1108] 1 Chunks of size 5120000 totalling 4.88MiB\n",
      "2024-04-16 18:32:37.228218: I external/local_tsl/tsl/framework/bfc_allocator.cc:1108] 2 Chunks of size 6553600 totalling 12.50MiB\n",
      "2024-04-16 18:32:37.228220: I external/local_tsl/tsl/framework/bfc_allocator.cc:1108] 1 Chunks of size 58982400 totalling 56.25MiB\n",
      "2024-04-16 18:32:37.228223: I external/local_tsl/tsl/framework/bfc_allocator.cc:1108] 1 Chunks of size 114937856 totalling 109.61MiB\n",
      "2024-04-16 18:32:37.228226: I external/local_tsl/tsl/framework/bfc_allocator.cc:1108] 1 Chunks of size 163840000 totalling 156.25MiB\n",
      "2024-04-16 18:32:37.228229: I external/local_tsl/tsl/framework/bfc_allocator.cc:1108] 1 Chunks of size 179355648 totalling 171.05MiB\n",
      "2024-04-16 18:32:37.228231: I external/local_tsl/tsl/framework/bfc_allocator.cc:1108] 1 Chunks of size 203212800 totalling 193.80MiB\n",
      "2024-04-16 18:32:37.228234: I external/local_tsl/tsl/framework/bfc_allocator.cc:1108] 1 Chunks of size 268435456 totalling 256.00MiB\n",
      "2024-04-16 18:32:37.228236: I external/local_tsl/tsl/framework/bfc_allocator.cc:1108] 1 Chunks of size 393625600 totalling 375.39MiB\n",
      "2024-04-16 18:32:37.228239: I external/local_tsl/tsl/framework/bfc_allocator.cc:1108] 1 Chunks of size 655360000 totalling 625.00MiB\n",
      "2024-04-16 18:32:37.228241: I external/local_tsl/tsl/framework/bfc_allocator.cc:1108] 1 Chunks of size 762060800 totalling 726.76MiB\n",
      "2024-04-16 18:32:37.228244: I external/local_tsl/tsl/framework/bfc_allocator.cc:1108] 1 Chunks of size 1474560000 totalling 1.37GiB\n",
      "2024-04-16 18:32:37.228247: I external/local_tsl/tsl/framework/bfc_allocator.cc:1108] 2 Chunks of size 1677721600 totalling 3.12GiB\n",
      "2024-04-16 18:32:37.228249: I external/local_tsl/tsl/framework/bfc_allocator.cc:1108] 1 Chunks of size 3355443200 totalling 3.12GiB\n",
      "2024-04-16 18:32:37.228252: I external/local_tsl/tsl/framework/bfc_allocator.cc:1112] Sum Total of in-use chunks: 10.27GiB\n",
      "2024-04-16 18:32:37.228255: I external/local_tsl/tsl/framework/bfc_allocator.cc:1114] Total bytes in pool: 16671965184 memory_limit_: 16671965184 available bytes: 0 curr_region_allocation_bytes_: 17179869184\n",
      "2024-04-16 18:32:37.228261: I external/local_tsl/tsl/framework/bfc_allocator.cc:1119] Stats: \n",
      "Limit:                     16671965184\n",
      "InUse:                     11030620160\n",
      "MaxInUse:                  15389788160\n",
      "NumAllocs:                          58\n",
      "MaxAllocSize:               5898240000\n",
      "Reserved:                            0\n",
      "PeakReserved:                        0\n",
      "LargestFreeBlock:                    0\n",
      "\n",
      "2024-04-16 18:32:37.228267: W external/local_tsl/tsl/framework/bfc_allocator.cc:499] *********************______**__________*********************____**********______***************_****\n",
      "2024-04-16 18:32:37.230995: W tensorflow/core/framework/op_kernel.cc:1839] OP_REQUIRES failed at tile_ops.cc:201 : RESOURCE_EXHAUSTED: OOM when allocating tensor with shape[100,256,128,2,256] and type float on /job:localhost/replica:0/task:0/device:CPU:0 by allocator mklcpu\n",
      "2024-04-16 18:32:47.228420: W external/local_tsl/tsl/framework/bfc_allocator.cc:487] Allocator (mklcpu) ran out of memory trying to allocate 3.12GiB (rounded to 3355443200)requested by op StatefulPartitionedCall/sequential_3/up_sampling2d_1_2/Repeat/Tile\n",
      "If the cause is memory fragmentation maybe the environment variable 'TF_GPU_ALLOCATOR=cuda_malloc_async' will improve the situation. \n",
      "Current allocation summary follows.\n",
      "Current allocation summary follows.\n",
      "2024-04-16 18:32:47.228460: I external/local_tsl/tsl/framework/bfc_allocator.cc:1044] BFCAllocator dump for mklcpu\n",
      "2024-04-16 18:32:47.228466: I external/local_tsl/tsl/framework/bfc_allocator.cc:1051] Bin (256): \tTotal Chunks: 0, Chunks in use: 0. 0B allocated for chunks. 0B in use in bin. 0B client-requested in use in bin.\n",
      "2024-04-16 18:32:47.228468: I external/local_tsl/tsl/framework/bfc_allocator.cc:1051] Bin (512): \tTotal Chunks: 0, Chunks in use: 0. 0B allocated for chunks. 0B in use in bin. 0B client-requested in use in bin.\n",
      "2024-04-16 18:32:47.228470: I external/local_tsl/tsl/framework/bfc_allocator.cc:1051] Bin (1024): \tTotal Chunks: 0, Chunks in use: 0. 0B allocated for chunks. 0B in use in bin. 0B client-requested in use in bin.\n",
      "2024-04-16 18:32:47.228472: I external/local_tsl/tsl/framework/bfc_allocator.cc:1051] Bin (2048): \tTotal Chunks: 0, Chunks in use: 0. 0B allocated for chunks. 0B in use in bin. 0B client-requested in use in bin.\n",
      "2024-04-16 18:32:47.228474: I external/local_tsl/tsl/framework/bfc_allocator.cc:1051] Bin (4096): \tTotal Chunks: 0, Chunks in use: 0. 0B allocated for chunks. 0B in use in bin. 0B client-requested in use in bin.\n",
      "2024-04-16 18:32:47.228476: I external/local_tsl/tsl/framework/bfc_allocator.cc:1051] Bin (8192): \tTotal Chunks: 0, Chunks in use: 0. 0B allocated for chunks. 0B in use in bin. 0B client-requested in use in bin.\n",
      "2024-04-16 18:32:47.228478: I external/local_tsl/tsl/framework/bfc_allocator.cc:1051] Bin (16384): \tTotal Chunks: 0, Chunks in use: 0. 0B allocated for chunks. 0B in use in bin. 0B client-requested in use in bin.\n",
      "2024-04-16 18:32:47.228480: I external/local_tsl/tsl/framework/bfc_allocator.cc:1051] Bin (32768): \tTotal Chunks: 0, Chunks in use: 0. 0B allocated for chunks. 0B in use in bin. 0B client-requested in use in bin.\n",
      "2024-04-16 18:32:47.228482: I external/local_tsl/tsl/framework/bfc_allocator.cc:1051] Bin (65536): \tTotal Chunks: 0, Chunks in use: 0. 0B allocated for chunks. 0B in use in bin. 0B client-requested in use in bin.\n",
      "2024-04-16 18:32:47.228483: I external/local_tsl/tsl/framework/bfc_allocator.cc:1051] Bin (131072): \tTotal Chunks: 0, Chunks in use: 0. 0B allocated for chunks. 0B in use in bin. 0B client-requested in use in bin.\n",
      "2024-04-16 18:32:47.228485: I external/local_tsl/tsl/framework/bfc_allocator.cc:1051] Bin (262144): \tTotal Chunks: 0, Chunks in use: 0. 0B allocated for chunks. 0B in use in bin. 0B client-requested in use in bin.\n",
      "2024-04-16 18:32:47.228488: I external/local_tsl/tsl/framework/bfc_allocator.cc:1051] Bin (524288): \tTotal Chunks: 3, Chunks in use: 2. 2.44MiB allocated for chunks. 1.56MiB in use in bin. 1.56MiB client-requested in use in bin.\n",
      "2024-04-16 18:32:47.228490: I external/local_tsl/tsl/framework/bfc_allocator.cc:1051] Bin (1048576): \tTotal Chunks: 2, Chunks in use: 2. 3.12MiB allocated for chunks. 3.12MiB in use in bin. 3.12MiB client-requested in use in bin.\n",
      "2024-04-16 18:32:47.228493: I external/local_tsl/tsl/framework/bfc_allocator.cc:1051] Bin (2097152): \tTotal Chunks: 3, Chunks in use: 3. 8.69MiB allocated for chunks. 8.69MiB in use in bin. 8.69MiB client-requested in use in bin.\n",
      "2024-04-16 18:32:47.228496: I external/local_tsl/tsl/framework/bfc_allocator.cc:1051] Bin (4194304): \tTotal Chunks: 6, Chunks in use: 6. 29.88MiB allocated for chunks. 29.88MiB in use in bin. 26.94MiB client-requested in use in bin.\n",
      "2024-04-16 18:32:47.228498: I external/local_tsl/tsl/framework/bfc_allocator.cc:1051] Bin (8388608): \tTotal Chunks: 0, Chunks in use: 0. 0B allocated for chunks. 0B in use in bin. 0B client-requested in use in bin.\n",
      "2024-04-16 18:32:47.228499: I external/local_tsl/tsl/framework/bfc_allocator.cc:1051] Bin (16777216): \tTotal Chunks: 0, Chunks in use: 0. 0B allocated for chunks. 0B in use in bin. 0B client-requested in use in bin.\n",
      "2024-04-16 18:32:47.228502: I external/local_tsl/tsl/framework/bfc_allocator.cc:1051] Bin (33554432): \tTotal Chunks: 2, Chunks in use: 1. 102.25MiB allocated for chunks. 56.25MiB in use in bin. 56.25MiB client-requested in use in bin.\n",
      "2024-04-16 18:32:47.228504: I external/local_tsl/tsl/framework/bfc_allocator.cc:1051] Bin (67108864): \tTotal Chunks: 1, Chunks in use: 1. 109.61MiB allocated for chunks. 109.61MiB in use in bin. 56.25MiB client-requested in use in bin.\n",
      "2024-04-16 18:32:47.228515: I external/local_tsl/tsl/framework/bfc_allocator.cc:1051] Bin (134217728): \tTotal Chunks: 5, Chunks in use: 3. 805.50MiB allocated for chunks. 521.10MiB in use in bin. 506.30MiB client-requested in use in bin.\n",
      "2024-04-16 18:32:47.228517: I external/local_tsl/tsl/framework/bfc_allocator.cc:1051] Bin (268435456): \tTotal Chunks: 13, Chunks in use: 8. 14.49GiB allocated for chunks. 9.56GiB in use in bin. 9.46GiB client-requested in use in bin.\n",
      "2024-04-16 18:32:47.228520: I external/local_tsl/tsl/framework/bfc_allocator.cc:1067] Bin for 3.12GiB was 256.00MiB, Chunk State: \n",
      "2024-04-16 18:32:47.228524: I external/local_tsl/tsl/framework/bfc_allocator.cc:1073]   Size: 355.75MiB | Requested Size: 156.25MiB | in_use: 0 | bin_num: 20, prev:   Size: 156.25MiB | Requested Size: 156.25MiB | in_use: 1 | bin_num: -1\n",
      "2024-04-16 18:32:47.228527: I external/local_tsl/tsl/framework/bfc_allocator.cc:1073]   Size: 825.00MiB | Requested Size: 775.20MiB | in_use: 0 | bin_num: 20, prev:   Size: 1.56GiB | Requested Size: 1.56GiB | in_use: 1 | bin_num: -1, next:   Size: 1.37GiB | Requested Size: 1.37GiB | in_use: 1 | bin_num: -1\n",
      "2024-04-16 18:32:47.228530: I external/local_tsl/tsl/framework/bfc_allocator.cc:1073]   Size: 1.08GiB | Requested Size: 0B | in_use: 0 | bin_num: 20, prev:   Size: 3.12GiB | Requested Size: 3.12GiB | in_use: 1 | bin_num: -1, next:   Size: 193.80MiB | Requested Size: 193.80MiB | in_use: 1 | bin_num: -1\n",
      "2024-04-16 18:32:47.228533: I external/local_tsl/tsl/framework/bfc_allocator.cc:1073]   Size: 1.13GiB | Requested Size: 625.00MiB | in_use: 0 | bin_num: 20, prev:   Size: 1.37GiB | Requested Size: 1.37GiB | in_use: 1 | bin_num: -1\n",
      "2024-04-16 18:32:47.228535: I external/local_tsl/tsl/framework/bfc_allocator.cc:1073]   Size: 1.56GiB | Requested Size: 1.56GiB | in_use: 0 | bin_num: 20, next:   Size: 1.56GiB | Requested Size: 1.56GiB | in_use: 1 | bin_num: -1\n",
      "2024-04-16 18:32:47.228537: I external/local_tsl/tsl/framework/bfc_allocator.cc:1080] Next region of size 4860805120\n",
      "2024-04-16 18:32:47.228541: I external/local_tsl/tsl/framework/bfc_allocator.cc:1100] InUse at 7f86ee45b040 of size 3355443200 next 32\n",
      "2024-04-16 18:32:47.228543: I external/local_tsl/tsl/framework/bfc_allocator.cc:1100] Free  at 7f87b645b040 of size 1161011200 next 31\n",
      "2024-04-16 18:32:47.228551: I external/local_tsl/tsl/framework/bfc_allocator.cc:1100] InUse at 7f87fb795040 of size 203212800 next 34\n",
      "2024-04-16 18:32:47.228554: I external/local_tsl/tsl/framework/bfc_allocator.cc:1100] Free  at 7f8807961840 of size 141137920 next 18446744073709551615\n",
      "2024-04-16 18:32:47.228556: I external/local_tsl/tsl/framework/bfc_allocator.cc:1080] Next region of size 8589934592\n",
      "2024-04-16 18:32:47.228558: I external/local_tsl/tsl/framework/bfc_allocator.cc:1100] Free  at 7f881fffd040 of size 1677721600 next 26\n",
      "2024-04-16 18:32:47.228560: I external/local_tsl/tsl/framework/bfc_allocator.cc:1100] InUse at 7f8883ffd040 of size 1677721600 next 30\n",
      "2024-04-16 18:32:47.228562: I external/local_tsl/tsl/framework/bfc_allocator.cc:1100] InUse at 7f88e7ffd040 of size 1677721600 next 25\n",
      "2024-04-16 18:32:47.228564: I external/local_tsl/tsl/framework/bfc_allocator.cc:1100] Free  at 7f894bffd040 of size 865075200 next 23\n",
      "2024-04-16 18:32:47.228565: I external/local_tsl/tsl/framework/bfc_allocator.cc:1100] InUse at 7f897f8fd040 of size 1474560000 next 27\n",
      "2024-04-16 18:32:47.228567: I external/local_tsl/tsl/framework/bfc_allocator.cc:1100] Free  at 7f89d773d040 of size 1217134592 next 18446744073709551615\n",
      "2024-04-16 18:32:47.228569: I external/local_tsl/tsl/framework/bfc_allocator.cc:1080] Next region of size 2147483648\n",
      "2024-04-16 18:32:47.228571: I external/local_tsl/tsl/framework/bfc_allocator.cc:1100] InUse at 7f8a23fff040 of size 762060800 next 33\n",
      "2024-04-16 18:32:47.228572: I external/local_tsl/tsl/framework/bfc_allocator.cc:1100] InUse at 7f8a516c1040 of size 655360000 next 29\n",
      "2024-04-16 18:32:47.228574: I external/local_tsl/tsl/framework/bfc_allocator.cc:1100] Free  at 7f8a787c1040 of size 157081600 next 21\n",
      "2024-04-16 18:32:47.228576: I external/local_tsl/tsl/framework/bfc_allocator.cc:1100] InUse at 7f8a81d8f040 of size 393625600 next 28\n",
      "2024-04-16 18:32:47.228578: I external/local_tsl/tsl/framework/bfc_allocator.cc:1100] InUse at 7f8a994f3040 of size 179355648 next 18446744073709551615\n",
      "2024-04-16 18:32:47.228580: I external/local_tsl/tsl/framework/bfc_allocator.cc:1080] Next region of size 536870912\n",
      "2024-04-16 18:32:47.228581: I external/local_tsl/tsl/framework/bfc_allocator.cc:1100] InUse at 7f8b2bffd040 of size 163840000 next 3\n",
      "2024-04-16 18:32:47.228583: I external/local_tsl/tsl/framework/bfc_allocator.cc:1100] Free  at 7f8b35c3d040 of size 373030912 next 18446744073709551615\n",
      "2024-04-16 18:32:47.228585: I external/local_tsl/tsl/framework/bfc_allocator.cc:1080] Next region of size 268435456\n",
      "2024-04-16 18:32:47.228586: I external/local_tsl/tsl/framework/bfc_allocator.cc:1100] InUse at 7f8b4bffe040 of size 1638400 next 4\n",
      "2024-04-16 18:32:47.228588: I external/local_tsl/tsl/framework/bfc_allocator.cc:1100] InUse at 7f8b4c18e040 of size 5120000 next 6\n",
      "2024-04-16 18:32:47.228590: I external/local_tsl/tsl/framework/bfc_allocator.cc:1100] InUse at 7f8b4c670040 of size 2560000 next 7\n",
      "2024-04-16 18:32:47.228592: I external/local_tsl/tsl/framework/bfc_allocator.cc:1100] InUse at 7f8b4c8e1040 of size 1638400 next 12\n",
      "2024-04-16 18:32:47.228593: I external/local_tsl/tsl/framework/bfc_allocator.cc:1100] InUse at 7f8b4ca71040 of size 819200 next 13\n",
      "2024-04-16 18:32:47.228595: I external/local_tsl/tsl/framework/bfc_allocator.cc:1100] InUse at 7f8b4cb39040 of size 819200 next 19\n",
      "2024-04-16 18:32:47.228597: I external/local_tsl/tsl/framework/bfc_allocator.cc:1100] Free  at 7f8b4cc01040 of size 917504 next 5\n",
      "2024-04-16 18:32:47.228598: I external/local_tsl/tsl/framework/bfc_allocator.cc:1100] InUse at 7f8b4cce1040 of size 4194304 next 10\n",
      "2024-04-16 18:32:47.228600: I external/local_tsl/tsl/framework/bfc_allocator.cc:1100] InUse at 7f8b4d0e1040 of size 4718592 next 8\n",
      "2024-04-16 18:32:47.228602: I external/local_tsl/tsl/framework/bfc_allocator.cc:1100] InUse at 7f8b4d561040 of size 6553600 next 9\n",
      "2024-04-16 18:32:47.228604: I external/local_tsl/tsl/framework/bfc_allocator.cc:1100] InUse at 7f8b4dba1040 of size 3276800 next 11\n",
      "2024-04-16 18:32:47.228605: I external/local_tsl/tsl/framework/bfc_allocator.cc:1100] InUse at 7f8b4dec1040 of size 3276800 next 14\n",
      "2024-04-16 18:32:47.228607: I external/local_tsl/tsl/framework/bfc_allocator.cc:1100] InUse at 7f8b4e1e1040 of size 58982400 next 15\n",
      "2024-04-16 18:32:47.228609: I external/local_tsl/tsl/framework/bfc_allocator.cc:1100] InUse at 7f8b51a21040 of size 6553600 next 17\n",
      "2024-04-16 18:32:47.228610: I external/local_tsl/tsl/framework/bfc_allocator.cc:1100] InUse at 7f8b52061040 of size 4194304 next 18\n",
      "2024-04-16 18:32:47.228612: I external/local_tsl/tsl/framework/bfc_allocator.cc:1100] Free  at 7f8b52461040 of size 48234496 next 16\n",
      "2024-04-16 18:32:47.228614: I external/local_tsl/tsl/framework/bfc_allocator.cc:1100] InUse at 7f8b55261040 of size 114937856 next 18446744073709551615\n",
      "2024-04-16 18:32:47.228615: I external/local_tsl/tsl/framework/bfc_allocator.cc:1080] Next region of size 268435456\n",
      "2024-04-16 18:32:47.228617: I external/local_tsl/tsl/framework/bfc_allocator.cc:1100] InUse at 7f8b5bfff040 of size 268435456 next 18446744073709551615\n",
      "2024-04-16 18:32:47.228619: I external/local_tsl/tsl/framework/bfc_allocator.cc:1105]      Summary of in-use Chunks by size: \n",
      "2024-04-16 18:32:47.228621: I external/local_tsl/tsl/framework/bfc_allocator.cc:1108] 2 Chunks of size 819200 totalling 1.56MiB\n",
      "2024-04-16 18:32:47.228624: I external/local_tsl/tsl/framework/bfc_allocator.cc:1108] 2 Chunks of size 1638400 totalling 3.12MiB\n",
      "2024-04-16 18:32:47.228625: I external/local_tsl/tsl/framework/bfc_allocator.cc:1108] 1 Chunks of size 2560000 totalling 2.44MiB\n",
      "2024-04-16 18:32:47.228627: I external/local_tsl/tsl/framework/bfc_allocator.cc:1108] 2 Chunks of size 3276800 totalling 6.25MiB\n",
      "2024-04-16 18:32:47.228629: I external/local_tsl/tsl/framework/bfc_allocator.cc:1108] 2 Chunks of size 4194304 totalling 8.00MiB\n",
      "2024-04-16 18:32:47.228631: I external/local_tsl/tsl/framework/bfc_allocator.cc:1108] 1 Chunks of size 4718592 totalling 4.50MiB\n",
      "2024-04-16 18:32:47.228633: I external/local_tsl/tsl/framework/bfc_allocator.cc:1108] 1 Chunks of size 5120000 totalling 4.88MiB\n",
      "2024-04-16 18:32:47.228635: I external/local_tsl/tsl/framework/bfc_allocator.cc:1108] 2 Chunks of size 6553600 totalling 12.50MiB\n",
      "2024-04-16 18:32:47.228636: I external/local_tsl/tsl/framework/bfc_allocator.cc:1108] 1 Chunks of size 58982400 totalling 56.25MiB\n",
      "2024-04-16 18:32:47.228638: I external/local_tsl/tsl/framework/bfc_allocator.cc:1108] 1 Chunks of size 114937856 totalling 109.61MiB\n",
      "2024-04-16 18:32:47.228640: I external/local_tsl/tsl/framework/bfc_allocator.cc:1108] 1 Chunks of size 163840000 totalling 156.25MiB\n",
      "2024-04-16 18:32:47.228642: I external/local_tsl/tsl/framework/bfc_allocator.cc:1108] 1 Chunks of size 179355648 totalling 171.05MiB\n",
      "2024-04-16 18:32:47.228644: I external/local_tsl/tsl/framework/bfc_allocator.cc:1108] 1 Chunks of size 203212800 totalling 193.80MiB\n",
      "2024-04-16 18:32:47.228646: I external/local_tsl/tsl/framework/bfc_allocator.cc:1108] 1 Chunks of size 268435456 totalling 256.00MiB\n",
      "2024-04-16 18:32:47.228648: I external/local_tsl/tsl/framework/bfc_allocator.cc:1108] 1 Chunks of size 393625600 totalling 375.39MiB\n",
      "2024-04-16 18:32:47.228649: I external/local_tsl/tsl/framework/bfc_allocator.cc:1108] 1 Chunks of size 655360000 totalling 625.00MiB\n",
      "2024-04-16 18:32:47.228651: I external/local_tsl/tsl/framework/bfc_allocator.cc:1108] 1 Chunks of size 762060800 totalling 726.76MiB\n",
      "2024-04-16 18:32:47.228653: I external/local_tsl/tsl/framework/bfc_allocator.cc:1108] 1 Chunks of size 1474560000 totalling 1.37GiB\n",
      "2024-04-16 18:32:47.228655: I external/local_tsl/tsl/framework/bfc_allocator.cc:1108] 2 Chunks of size 1677721600 totalling 3.12GiB\n",
      "2024-04-16 18:32:47.228657: I external/local_tsl/tsl/framework/bfc_allocator.cc:1108] 1 Chunks of size 3355443200 totalling 3.12GiB\n",
      "2024-04-16 18:32:47.228659: I external/local_tsl/tsl/framework/bfc_allocator.cc:1112] Sum Total of in-use chunks: 10.27GiB\n",
      "2024-04-16 18:32:47.228661: I external/local_tsl/tsl/framework/bfc_allocator.cc:1114] Total bytes in pool: 16671965184 memory_limit_: 16671965184 available bytes: 0 curr_region_allocation_bytes_: 17179869184\n",
      "2024-04-16 18:32:47.228665: I external/local_tsl/tsl/framework/bfc_allocator.cc:1119] Stats: \n",
      "Limit:                     16671965184\n",
      "InUse:                     11030620160\n",
      "MaxInUse:                  15389788160\n",
      "NumAllocs:                          58\n",
      "MaxAllocSize:               5898240000\n",
      "Reserved:                            0\n",
      "PeakReserved:                        0\n",
      "LargestFreeBlock:                    0\n",
      "\n",
      "2024-04-16 18:32:47.228669: W external/local_tsl/tsl/framework/bfc_allocator.cc:499] *********************______**__________*********************____**********______***************_****\n",
      "2024-04-16 18:32:47.228700: W tensorflow/core/framework/op_kernel.cc:1839] OP_REQUIRES failed at tile_ops.cc:201 : RESOURCE_EXHAUSTED: OOM when allocating tensor with shape[100,128,2,128,256] and type float on /job:localhost/replica:0/task:0/device:CPU:0 by allocator mklcpu\n"
     ]
    },
    {
     "ename": "RuntimeError",
     "evalue": "pybind11::error_already_set: MISMATCH of original and normalized active exception types: ORIGINAL ResourceExhaustedError REPLACED BY KeyboardInterrupt: <EMPTY MESSAGE>\n\nAt:\n  /opt/conda/lib/python3.11/site-packages/tensorflow/python/framework/errors_impl.py(377): __init__\n  /opt/conda/lib/python3.11/site-packages/tensorflow/python/eager/execute.py(53): quick_execute\n  /opt/conda/lib/python3.11/site-packages/tensorflow/python/eager/context.py(1500): call_function\n  /opt/conda/lib/python3.11/site-packages/tensorflow/python/eager/polymorphic_function/atomic_function.py(251): call_flat\n  /opt/conda/lib/python3.11/site-packages/tensorflow/python/eager/polymorphic_function/atomic_function.py(216): call_preflattened\n  /opt/conda/lib/python3.11/site-packages/tensorflow/python/eager/polymorphic_function/concrete_function.py(1322): _call_flat\n  /opt/conda/lib/python3.11/site-packages/tensorflow/python/eager/polymorphic_function/polymorphic_function.py(919): _call\n  /opt/conda/lib/python3.11/site-packages/tensorflow/python/eager/polymorphic_function/polymorphic_function.py(833): __call__\n  /opt/conda/lib/python3.11/site-packages/tensorflow/python/util/traceback_utils.py(150): error_handler\n  /opt/conda/lib/python3.11/site-packages/keras/src/backend/tensorflow/trainer.py(329): fit\n  /opt/conda/lib/python3.11/site-packages/keras/src/utils/traceback_utils.py(117): error_handler\n  /tmp/ipykernel_7904/293886067.py(1): <module>\n  /opt/conda/lib/python3.11/site-packages/IPython/core/interactiveshell.py(3577): run_code\n  /opt/conda/lib/python3.11/site-packages/IPython/core/interactiveshell.py(3517): run_ast_nodes\n  /opt/conda/lib/python3.11/site-packages/IPython/core/interactiveshell.py(3334): run_cell_async\n  /opt/conda/lib/python3.11/site-packages/IPython/core/async_helpers.py(129): _pseudo_sync_runner\n  /opt/conda/lib/python3.11/site-packages/IPython/core/interactiveshell.py(3130): _run_cell\n  /opt/conda/lib/python3.11/site-packages/IPython/core/interactiveshell.py(3075): run_cell\n  /opt/conda/lib/python3.11/site-packages/ipykernel/zmqshell.py(549): run_cell\n  /opt/conda/lib/python3.11/site-packages/ipykernel/ipkernel.py(446): do_execute\n  /opt/conda/lib/python3.11/site-packages/ipykernel/kernelbase.py(778): execute_request\n  /opt/conda/lib/python3.11/site-packages/ipykernel/ipkernel.py(359): execute_request\n  /opt/conda/lib/python3.11/site-packages/ipykernel/kernelbase.py(437): dispatch_shell\n  /opt/conda/lib/python3.11/site-packages/ipykernel/kernelbase.py(534): process_one\n  /opt/conda/lib/python3.11/site-packages/ipykernel/kernelbase.py(545): dispatch_queue\n  /opt/conda/lib/python3.11/asyncio/events.py(80): _run\n  /opt/conda/lib/python3.11/asyncio/base_events.py(1922): _run_once\n  /opt/conda/lib/python3.11/asyncio/base_events.py(607): run_forever\n  /opt/conda/lib/python3.11/site-packages/tornado/platform/asyncio.py(205): start\n  /opt/conda/lib/python3.11/site-packages/ipykernel/kernelapp.py(739): start\n  /opt/conda/lib/python3.11/site-packages/traitlets/config/application.py(1075): launch_instance\n  /opt/conda/lib/python3.11/site-packages/ipykernel_launcher.py(18): <module>\n  <frozen runpy>(88): _run_code\n  <frozen runpy>(198): _run_module_as_main\n",
     "output_type": "error",
     "traceback": [
      "\u001b[0;31m---------------------------------------------------------------------------\u001b[0m",
      "\u001b[0;31mRuntimeError\u001b[0m                              Traceback (most recent call last)",
      "Cell \u001b[0;32mIn[13], line 1\u001b[0m\n\u001b[0;32m----> 1\u001b[0m hist \u001b[38;5;241m=\u001b[39m \u001b[43mpokegan\u001b[49m\u001b[38;5;241;43m.\u001b[39;49m\u001b[43mfit\u001b[49m\u001b[43m(\u001b[49m\u001b[43mdataset\u001b[49m\u001b[43m,\u001b[49m\u001b[43m \u001b[49m\u001b[43mepochs\u001b[49m\u001b[38;5;241;43m=\u001b[39;49m\u001b[38;5;241;43m20\u001b[39;49m\u001b[43m)\u001b[49m\n",
      "File \u001b[0;32m/opt/conda/lib/python3.11/site-packages/keras/src/utils/traceback_utils.py:122\u001b[0m, in \u001b[0;36mfilter_traceback.<locals>.error_handler\u001b[0;34m(*args, **kwargs)\u001b[0m\n\u001b[1;32m    119\u001b[0m     filtered_tb \u001b[38;5;241m=\u001b[39m _process_traceback_frames(e\u001b[38;5;241m.\u001b[39m__traceback__)\n\u001b[1;32m    120\u001b[0m     \u001b[38;5;66;03m# To get the full stack trace, call:\u001b[39;00m\n\u001b[1;32m    121\u001b[0m     \u001b[38;5;66;03m# `keras.config.disable_traceback_filtering()`\u001b[39;00m\n\u001b[0;32m--> 122\u001b[0m     \u001b[38;5;28;01mraise\u001b[39;00m e\u001b[38;5;241m.\u001b[39mwith_traceback(filtered_tb) \u001b[38;5;28;01mfrom\u001b[39;00m \u001b[38;5;28;01mNone\u001b[39;00m\n\u001b[1;32m    123\u001b[0m \u001b[38;5;28;01mfinally\u001b[39;00m:\n\u001b[1;32m    124\u001b[0m     \u001b[38;5;28;01mdel\u001b[39;00m filtered_tb\n",
      "File \u001b[0;32m/opt/conda/lib/python3.11/site-packages/tensorflow/python/eager/execute.py:53\u001b[0m, in \u001b[0;36mquick_execute\u001b[0;34m(op_name, num_outputs, inputs, attrs, ctx, name)\u001b[0m\n\u001b[1;32m     51\u001b[0m \u001b[38;5;28;01mtry\u001b[39;00m:\n\u001b[1;32m     52\u001b[0m   ctx\u001b[38;5;241m.\u001b[39mensure_initialized()\n\u001b[0;32m---> 53\u001b[0m   tensors \u001b[38;5;241m=\u001b[39m pywrap_tfe\u001b[38;5;241m.\u001b[39mTFE_Py_Execute(ctx\u001b[38;5;241m.\u001b[39m_handle, device_name, op_name,\n\u001b[1;32m     54\u001b[0m                                       inputs, attrs, num_outputs)\n\u001b[1;32m     55\u001b[0m \u001b[38;5;28;01mexcept\u001b[39;00m core\u001b[38;5;241m.\u001b[39m_NotOkStatusException \u001b[38;5;28;01mas\u001b[39;00m e:\n\u001b[1;32m     56\u001b[0m   \u001b[38;5;28;01mif\u001b[39;00m name \u001b[38;5;129;01mis\u001b[39;00m \u001b[38;5;129;01mnot\u001b[39;00m \u001b[38;5;28;01mNone\u001b[39;00m:\n",
      "\u001b[0;31mRuntimeError\u001b[0m: pybind11::error_already_set: MISMATCH of original and normalized active exception types: ORIGINAL ResourceExhaustedError REPLACED BY KeyboardInterrupt: <EMPTY MESSAGE>\n\nAt:\n  /opt/conda/lib/python3.11/site-packages/tensorflow/python/framework/errors_impl.py(377): __init__\n  /opt/conda/lib/python3.11/site-packages/tensorflow/python/eager/execute.py(53): quick_execute\n  /opt/conda/lib/python3.11/site-packages/tensorflow/python/eager/context.py(1500): call_function\n  /opt/conda/lib/python3.11/site-packages/tensorflow/python/eager/polymorphic_function/atomic_function.py(251): call_flat\n  /opt/conda/lib/python3.11/site-packages/tensorflow/python/eager/polymorphic_function/atomic_function.py(216): call_preflattened\n  /opt/conda/lib/python3.11/site-packages/tensorflow/python/eager/polymorphic_function/concrete_function.py(1322): _call_flat\n  /opt/conda/lib/python3.11/site-packages/tensorflow/python/eager/polymorphic_function/polymorphic_function.py(919): _call\n  /opt/conda/lib/python3.11/site-packages/tensorflow/python/eager/polymorphic_function/polymorphic_function.py(833): __call__\n  /opt/conda/lib/python3.11/site-packages/tensorflow/python/util/traceback_utils.py(150): error_handler\n  /opt/conda/lib/python3.11/site-packages/keras/src/backend/tensorflow/trainer.py(329): fit\n  /opt/conda/lib/python3.11/site-packages/keras/src/utils/traceback_utils.py(117): error_handler\n  /tmp/ipykernel_7904/293886067.py(1): <module>\n  /opt/conda/lib/python3.11/site-packages/IPython/core/interactiveshell.py(3577): run_code\n  /opt/conda/lib/python3.11/site-packages/IPython/core/interactiveshell.py(3517): run_ast_nodes\n  /opt/conda/lib/python3.11/site-packages/IPython/core/interactiveshell.py(3334): run_cell_async\n  /opt/conda/lib/python3.11/site-packages/IPython/core/async_helpers.py(129): _pseudo_sync_runner\n  /opt/conda/lib/python3.11/site-packages/IPython/core/interactiveshell.py(3130): _run_cell\n  /opt/conda/lib/python3.11/site-packages/IPython/core/interactiveshell.py(3075): run_cell\n  /opt/conda/lib/python3.11/site-packages/ipykernel/zmqshell.py(549): run_cell\n  /opt/conda/lib/python3.11/site-packages/ipykernel/ipkernel.py(446): do_execute\n  /opt/conda/lib/python3.11/site-packages/ipykernel/kernelbase.py(778): execute_request\n  /opt/conda/lib/python3.11/site-packages/ipykernel/ipkernel.py(359): execute_request\n  /opt/conda/lib/python3.11/site-packages/ipykernel/kernelbase.py(437): dispatch_shell\n  /opt/conda/lib/python3.11/site-packages/ipykernel/kernelbase.py(534): process_one\n  /opt/conda/lib/python3.11/site-packages/ipykernel/kernelbase.py(545): dispatch_queue\n  /opt/conda/lib/python3.11/asyncio/events.py(80): _run\n  /opt/conda/lib/python3.11/asyncio/base_events.py(1922): _run_once\n  /opt/conda/lib/python3.11/asyncio/base_events.py(607): run_forever\n  /opt/conda/lib/python3.11/site-packages/tornado/platform/asyncio.py(205): start\n  /opt/conda/lib/python3.11/site-packages/ipykernel/kernelapp.py(739): start\n  /opt/conda/lib/python3.11/site-packages/traitlets/config/application.py(1075): launch_instance\n  /opt/conda/lib/python3.11/site-packages/ipykernel_launcher.py(18): <module>\n  <frozen runpy>(88): _run_code\n  <frozen runpy>(198): _run_module_as_main\n"
     ]
    }
   ],
   "source": [
    "hist = pokegan.fit(dataset, epochs=20)"
   ]
  },
  {
   "cell_type": "markdown",
   "metadata": {},
   "source": [
    "# Evaluation"
   ]
  },
  {
   "cell_type": "code",
   "execution_count": null,
   "metadata": {},
   "outputs": [],
   "source": []
  },
  {
   "cell_type": "code",
   "execution_count": null,
   "metadata": {},
   "outputs": [],
   "source": []
  }
 ],
 "metadata": {
  "kernelspec": {
   "display_name": "py311",
   "language": "python",
   "name": "python3"
  },
  "language_info": {
   "codemirror_mode": {
    "name": "ipython",
    "version": 3
   },
   "file_extension": ".py",
   "mimetype": "text/x-python",
   "name": "python",
   "nbconvert_exporter": "python",
   "pygments_lexer": "ipython3",
   "version": "3.11.7"
  }
 },
 "nbformat": 4,
 "nbformat_minor": 2
}
